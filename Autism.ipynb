{
 "cells": [
  {
   "cell_type": "code",
   "execution_count": 5,
   "id": "25f8c533",
   "metadata": {
    "scrolled": true
   },
   "outputs": [
    {
     "name": "stdout",
     "output_type": "stream",
     "text": [
      "<class 'pandas.core.frame.DataFrame'>\n",
      "RangeIndex: 704 entries, 0 to 703\n",
      "Data columns (total 21 columns):\n",
      " #   Column           Non-Null Count  Dtype  \n",
      "---  ------           --------------  -----  \n",
      " 0   A1_Score         704 non-null    int64  \n",
      " 1   A2_Score         704 non-null    int64  \n",
      " 2   A3_Score         704 non-null    int64  \n",
      " 3   A4_Score         704 non-null    int64  \n",
      " 4   A5_Score         704 non-null    int64  \n",
      " 5   A6_Score         704 non-null    int64  \n",
      " 6   A7_Score         704 non-null    int64  \n",
      " 7   A8_Score         704 non-null    int64  \n",
      " 8   A9_Score         704 non-null    int64  \n",
      " 9   A10_Score        704 non-null    int64  \n",
      " 10  age              702 non-null    float64\n",
      " 11  gender           704 non-null    object \n",
      " 12  ethnicity        704 non-null    object \n",
      " 13  jundice          704 non-null    object \n",
      " 14  austim           704 non-null    object \n",
      " 15  contry_of_res    704 non-null    object \n",
      " 16  used_app_before  704 non-null    object \n",
      " 17  result           704 non-null    float64\n",
      " 18  age_desc         704 non-null    object \n",
      " 19  relation         704 non-null    object \n",
      " 20  Class/ASD        704 non-null    object \n",
      "dtypes: float64(2), int64(10), object(9)\n",
      "memory usage: 115.6+ KB\n",
      "None\n"
     ]
    }
   ],
   "source": [
    "import pandas as pd\n",
    "\n",
    "data = pd.read_csv(\"autism_screening.csv\", nrows = 100000)\n",
    "\n",
    "print(data.info())\n"
   ]
  },
  {
   "cell_type": "code",
   "execution_count": 11,
   "id": "beab4b82",
   "metadata": {},
   "outputs": [
    {
     "name": "stdout",
     "output_type": "stream",
     "text": [
      "0      10\n",
      "1       4\n",
      "2       4\n",
      "3      10\n",
      "4       0\n",
      "       ..\n",
      "699    10\n",
      "700     3\n",
      "701     0\n",
      "702     8\n",
      "703    10\n",
      "Name: ethnicity, Length: 704, dtype: int64\n"
     ]
    },
    {
     "data": {
      "text/plain": [
       "<Figure size 1440x1440 with 0 Axes>"
      ]
     },
     "execution_count": 11,
     "metadata": {},
     "output_type": "execute_result"
    },
    {
     "data": {
      "text/plain": [
       "<Figure size 1440x1440 with 0 Axes>"
      ]
     },
     "metadata": {},
     "output_type": "display_data"
    }
   ],
   "source": [
    "import matplotlib.pyplot as plt\n",
    "import seaborn as sns\n",
    "\n",
    "from sklearn.preprocessing import LabelEncoder\n",
    "\n",
    "\n",
    "\n",
    "labelencoder = LabelEncoder()\n",
    "data['ethnicity'] = labelencoder.fit_transform(data['ethnicity'])\n",
    "print(data['ethnicity'])\n",
    "\n",
    "\n",
    "plt.figure(figsize=(20,20))#plot heat map\n",
    "# sns.heatmap(data.corr(),annot=True,cmap=\"RdYlGn\")"
   ]
  },
  {
   "cell_type": "code",
   "execution_count": null,
   "id": "4876751b",
   "metadata": {},
   "outputs": [],
   "source": []
  }
 ],
 "metadata": {
  "kernelspec": {
   "display_name": "Python 3 (ipykernel)",
   "language": "python",
   "name": "python3"
  },
  "language_info": {
   "codemirror_mode": {
    "name": "ipython",
    "version": 3
   },
   "file_extension": ".py",
   "mimetype": "text/x-python",
   "name": "python",
   "nbconvert_exporter": "python",
   "pygments_lexer": "ipython3",
   "version": "3.9.12"
  }
 },
 "nbformat": 4,
 "nbformat_minor": 5
}

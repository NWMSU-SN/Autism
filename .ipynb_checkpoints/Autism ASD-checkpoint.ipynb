{
 "cells": [
  {
   "cell_type": "code",
   "execution_count": 1,
   "id": "b8ff08bf",
   "metadata": {
    "execution": {
     "iopub.execute_input": "2022-02-05T07:57:41.215699Z",
     "iopub.status.busy": "2022-02-05T07:57:41.213849Z",
     "iopub.status.idle": "2022-02-05T07:57:42.344862Z",
     "shell.execute_reply": "2022-02-05T07:57:42.344006Z",
     "shell.execute_reply.started": "2022-02-05T06:56:47.938957Z"
    },
    "papermill": {
     "duration": 1.192881,
     "end_time": "2022-02-05T07:57:42.345063",
     "exception": false,
     "start_time": "2022-02-05T07:57:41.152182",
     "status": "completed"
    },
    "tags": []
   },
   "outputs": [],
   "source": [
    "import pandas as pd\n",
    "import numpy as np\n",
    "import matplotlib.pyplot as plt\n",
    "import seaborn as sns\n",
    "\n",
    "import warnings\n",
    "warnings.filterwarnings('ignore')"
   ]
  },
  {
   "cell_type": "code",
   "execution_count": 2,
   "id": "fff2d67f",
   "metadata": {
    "execution": {
     "iopub.execute_input": "2022-02-05T07:57:42.458209Z",
     "iopub.status.busy": "2022-02-05T07:57:42.457518Z",
     "iopub.status.idle": "2022-02-05T07:57:42.514700Z",
     "shell.execute_reply": "2022-02-05T07:57:42.515387Z",
     "shell.execute_reply.started": "2022-02-05T06:56:47.998217Z"
    },
    "papermill": {
     "duration": 0.117442,
     "end_time": "2022-02-05T07:57:42.515601",
     "exception": false,
     "start_time": "2022-02-05T07:57:42.398159",
     "status": "completed"
    },
    "scrolled": true,
    "tags": []
   },
   "outputs": [
    {
     "data": {
      "text/html": [
       "<div>\n",
       "<style scoped>\n",
       "    .dataframe tbody tr th:only-of-type {\n",
       "        vertical-align: middle;\n",
       "    }\n",
       "\n",
       "    .dataframe tbody tr th {\n",
       "        vertical-align: top;\n",
       "    }\n",
       "\n",
       "    .dataframe thead th {\n",
       "        text-align: right;\n",
       "    }\n",
       "</style>\n",
       "<table border=\"1\" class=\"dataframe\">\n",
       "  <thead>\n",
       "    <tr style=\"text-align: right;\">\n",
       "      <th></th>\n",
       "      <th>A1_Score</th>\n",
       "      <th>A2_Score</th>\n",
       "      <th>A3_Score</th>\n",
       "      <th>A4_Score</th>\n",
       "      <th>A5_Score</th>\n",
       "      <th>A6_Score</th>\n",
       "      <th>A7_Score</th>\n",
       "      <th>A8_Score</th>\n",
       "      <th>A9_Score</th>\n",
       "      <th>A10_Score</th>\n",
       "      <th>...</th>\n",
       "      <th>gender</th>\n",
       "      <th>ethnicity</th>\n",
       "      <th>jundice</th>\n",
       "      <th>austim</th>\n",
       "      <th>contry_of_res</th>\n",
       "      <th>used_app_before</th>\n",
       "      <th>result</th>\n",
       "      <th>age_desc</th>\n",
       "      <th>relation</th>\n",
       "      <th>Class/ASD</th>\n",
       "    </tr>\n",
       "  </thead>\n",
       "  <tbody>\n",
       "    <tr>\n",
       "      <th>0</th>\n",
       "      <td>1</td>\n",
       "      <td>1</td>\n",
       "      <td>1</td>\n",
       "      <td>1</td>\n",
       "      <td>0</td>\n",
       "      <td>0</td>\n",
       "      <td>1</td>\n",
       "      <td>1</td>\n",
       "      <td>0</td>\n",
       "      <td>0</td>\n",
       "      <td>...</td>\n",
       "      <td>f</td>\n",
       "      <td>White-European</td>\n",
       "      <td>no</td>\n",
       "      <td>no</td>\n",
       "      <td>'United States'</td>\n",
       "      <td>no</td>\n",
       "      <td>6</td>\n",
       "      <td>'18 and more'</td>\n",
       "      <td>Self</td>\n",
       "      <td>NO</td>\n",
       "    </tr>\n",
       "    <tr>\n",
       "      <th>1</th>\n",
       "      <td>1</td>\n",
       "      <td>1</td>\n",
       "      <td>0</td>\n",
       "      <td>1</td>\n",
       "      <td>0</td>\n",
       "      <td>0</td>\n",
       "      <td>0</td>\n",
       "      <td>1</td>\n",
       "      <td>0</td>\n",
       "      <td>1</td>\n",
       "      <td>...</td>\n",
       "      <td>m</td>\n",
       "      <td>Latino</td>\n",
       "      <td>no</td>\n",
       "      <td>yes</td>\n",
       "      <td>Brazil</td>\n",
       "      <td>no</td>\n",
       "      <td>5</td>\n",
       "      <td>'18 and more'</td>\n",
       "      <td>Self</td>\n",
       "      <td>NO</td>\n",
       "    </tr>\n",
       "    <tr>\n",
       "      <th>2</th>\n",
       "      <td>1</td>\n",
       "      <td>1</td>\n",
       "      <td>0</td>\n",
       "      <td>1</td>\n",
       "      <td>1</td>\n",
       "      <td>0</td>\n",
       "      <td>1</td>\n",
       "      <td>1</td>\n",
       "      <td>1</td>\n",
       "      <td>1</td>\n",
       "      <td>...</td>\n",
       "      <td>m</td>\n",
       "      <td>Latino</td>\n",
       "      <td>yes</td>\n",
       "      <td>yes</td>\n",
       "      <td>Spain</td>\n",
       "      <td>no</td>\n",
       "      <td>8</td>\n",
       "      <td>'18 and more'</td>\n",
       "      <td>Parent</td>\n",
       "      <td>YES</td>\n",
       "    </tr>\n",
       "    <tr>\n",
       "      <th>3</th>\n",
       "      <td>1</td>\n",
       "      <td>1</td>\n",
       "      <td>0</td>\n",
       "      <td>1</td>\n",
       "      <td>0</td>\n",
       "      <td>0</td>\n",
       "      <td>1</td>\n",
       "      <td>1</td>\n",
       "      <td>0</td>\n",
       "      <td>1</td>\n",
       "      <td>...</td>\n",
       "      <td>f</td>\n",
       "      <td>White-European</td>\n",
       "      <td>no</td>\n",
       "      <td>yes</td>\n",
       "      <td>'United States'</td>\n",
       "      <td>no</td>\n",
       "      <td>6</td>\n",
       "      <td>'18 and more'</td>\n",
       "      <td>Self</td>\n",
       "      <td>NO</td>\n",
       "    </tr>\n",
       "    <tr>\n",
       "      <th>4</th>\n",
       "      <td>1</td>\n",
       "      <td>0</td>\n",
       "      <td>0</td>\n",
       "      <td>0</td>\n",
       "      <td>0</td>\n",
       "      <td>0</td>\n",
       "      <td>0</td>\n",
       "      <td>1</td>\n",
       "      <td>0</td>\n",
       "      <td>0</td>\n",
       "      <td>...</td>\n",
       "      <td>f</td>\n",
       "      <td>?</td>\n",
       "      <td>no</td>\n",
       "      <td>no</td>\n",
       "      <td>Egypt</td>\n",
       "      <td>no</td>\n",
       "      <td>2</td>\n",
       "      <td>'18 and more'</td>\n",
       "      <td>?</td>\n",
       "      <td>NO</td>\n",
       "    </tr>\n",
       "  </tbody>\n",
       "</table>\n",
       "<p>5 rows × 21 columns</p>\n",
       "</div>"
      ],
      "text/plain": [
       "   A1_Score  A2_Score  A3_Score  A4_Score  A5_Score  A6_Score  A7_Score  \\\n",
       "0         1         1         1         1         0         0         1   \n",
       "1         1         1         0         1         0         0         0   \n",
       "2         1         1         0         1         1         0         1   \n",
       "3         1         1         0         1         0         0         1   \n",
       "4         1         0         0         0         0         0         0   \n",
       "\n",
       "   A8_Score  A9_Score  A10_Score  ... gender       ethnicity jundice austim  \\\n",
       "0         1         0          0  ...      f  White-European      no     no   \n",
       "1         1         0          1  ...      m          Latino      no    yes   \n",
       "2         1         1          1  ...      m          Latino     yes    yes   \n",
       "3         1         0          1  ...      f  White-European      no    yes   \n",
       "4         1         0          0  ...      f               ?      no     no   \n",
       "\n",
       "     contry_of_res used_app_before result       age_desc relation Class/ASD  \n",
       "0  'United States'              no      6  '18 and more'     Self        NO  \n",
       "1           Brazil              no      5  '18 and more'     Self        NO  \n",
       "2            Spain              no      8  '18 and more'   Parent       YES  \n",
       "3  'United States'              no      6  '18 and more'     Self        NO  \n",
       "4            Egypt              no      2  '18 and more'        ?        NO  \n",
       "\n",
       "[5 rows x 21 columns]"
      ]
     },
     "execution_count": 2,
     "metadata": {},
     "output_type": "execute_result"
    }
   ],
   "source": [
    "Autism = pd.read_csv(\"Autism_Data.arff\")\n",
    "Autism.head()"
   ]
  },
  {
   "cell_type": "code",
   "execution_count": 3,
   "id": "fd167e49",
   "metadata": {
    "execution": {
     "iopub.execute_input": "2022-02-05T07:57:42.633822Z",
     "iopub.status.busy": "2022-02-05T07:57:42.632754Z",
     "iopub.status.idle": "2022-02-05T07:57:42.636817Z",
     "shell.execute_reply": "2022-02-05T07:57:42.637437Z",
     "shell.execute_reply.started": "2022-02-05T06:56:48.074452Z"
    },
    "papermill": {
     "duration": 0.06399,
     "end_time": "2022-02-05T07:57:42.637640",
     "exception": false,
     "start_time": "2022-02-05T07:57:42.573650",
     "status": "completed"
    },
    "tags": []
   },
   "outputs": [],
   "source": [
    "#Data inspection and cleaning"
   ]
  },
  {
   "cell_type": "code",
   "execution_count": 4,
   "id": "b211ed45",
   "metadata": {
    "execution": {
     "iopub.execute_input": "2022-02-05T07:57:42.760083Z",
     "iopub.status.busy": "2022-02-05T07:57:42.756233Z",
     "iopub.status.idle": "2022-02-05T07:57:42.781277Z",
     "shell.execute_reply": "2022-02-05T07:57:42.782200Z",
     "shell.execute_reply.started": "2022-02-05T06:56:48.088672Z"
    },
    "papermill": {
     "duration": 0.088013,
     "end_time": "2022-02-05T07:57:42.782526",
     "exception": false,
     "start_time": "2022-02-05T07:57:42.694513",
     "status": "completed"
    },
    "scrolled": true,
    "tags": []
   },
   "outputs": [
    {
     "name": "stdout",
     "output_type": "stream",
     "text": [
      "<class 'pandas.core.frame.DataFrame'>\n",
      "RangeIndex: 704 entries, 0 to 703\n",
      "Data columns (total 21 columns):\n",
      " #   Column           Non-Null Count  Dtype \n",
      "---  ------           --------------  ----- \n",
      " 0   A1_Score         704 non-null    int64 \n",
      " 1   A2_Score         704 non-null    int64 \n",
      " 2   A3_Score         704 non-null    int64 \n",
      " 3   A4_Score         704 non-null    int64 \n",
      " 4   A5_Score         704 non-null    int64 \n",
      " 5   A6_Score         704 non-null    int64 \n",
      " 6   A7_Score         704 non-null    int64 \n",
      " 7   A8_Score         704 non-null    int64 \n",
      " 8   A9_Score         704 non-null    int64 \n",
      " 9   A10_Score        704 non-null    int64 \n",
      " 10  age              704 non-null    object\n",
      " 11  gender           704 non-null    object\n",
      " 12  ethnicity        704 non-null    object\n",
      " 13  jundice          704 non-null    object\n",
      " 14  austim           704 non-null    object\n",
      " 15  contry_of_res    704 non-null    object\n",
      " 16  used_app_before  704 non-null    object\n",
      " 17  result           704 non-null    int64 \n",
      " 18  age_desc         704 non-null    object\n",
      " 19  relation         704 non-null    object\n",
      " 20  Class/ASD        704 non-null    object\n",
      "dtypes: int64(11), object(10)\n",
      "memory usage: 115.6+ KB\n"
     ]
    }
   ],
   "source": [
    "Autism.info()"
   ]
  },
  {
   "cell_type": "code",
   "execution_count": 5,
   "id": "82d200e2",
   "metadata": {
    "execution": {
     "iopub.execute_input": "2022-02-05T07:57:42.910236Z",
     "iopub.status.busy": "2022-02-05T07:57:42.909528Z",
     "iopub.status.idle": "2022-02-05T07:57:42.912199Z",
     "shell.execute_reply": "2022-02-05T07:57:42.912688Z",
     "shell.execute_reply.started": "2022-02-05T06:56:48.143963Z"
    },
    "papermill": {
     "duration": 0.070839,
     "end_time": "2022-02-05T07:57:42.912877",
     "exception": false,
     "start_time": "2022-02-05T07:57:42.842038",
     "status": "completed"
    },
    "scrolled": true,
    "tags": []
   },
   "outputs": [
    {
     "data": {
      "text/plain": [
       "NO     515\n",
       "YES    189\n",
       "Name: Class/ASD, dtype: int64"
      ]
     },
     "execution_count": 5,
     "metadata": {},
     "output_type": "execute_result"
    }
   ],
   "source": [
    "Autism['Class/ASD'].value_counts()"
   ]
  },
  {
   "cell_type": "code",
   "execution_count": 6,
   "id": "9385aca2",
   "metadata": {
    "execution": {
     "iopub.execute_input": "2022-02-05T07:57:43.048024Z",
     "iopub.status.busy": "2022-02-05T07:57:43.047234Z",
     "iopub.status.idle": "2022-02-05T07:57:43.051483Z",
     "shell.execute_reply": "2022-02-05T07:57:43.051967Z",
     "shell.execute_reply.started": "2022-02-05T06:56:48.187947Z"
    },
    "papermill": {
     "duration": 0.080956,
     "end_time": "2022-02-05T07:57:43.052166",
     "exception": false,
     "start_time": "2022-02-05T07:57:42.971210",
     "status": "completed"
    },
    "tags": []
   },
   "outputs": [
    {
     "data": {
      "text/html": [
       "<div>\n",
       "<style scoped>\n",
       "    .dataframe tbody tr th:only-of-type {\n",
       "        vertical-align: middle;\n",
       "    }\n",
       "\n",
       "    .dataframe tbody tr th {\n",
       "        vertical-align: top;\n",
       "    }\n",
       "\n",
       "    .dataframe thead th {\n",
       "        text-align: right;\n",
       "    }\n",
       "</style>\n",
       "<table border=\"1\" class=\"dataframe\">\n",
       "  <thead>\n",
       "    <tr style=\"text-align: right;\">\n",
       "      <th></th>\n",
       "      <th>A1_Score</th>\n",
       "      <th>A2_Score</th>\n",
       "      <th>A3_Score</th>\n",
       "      <th>A4_Score</th>\n",
       "      <th>A5_Score</th>\n",
       "      <th>A6_Score</th>\n",
       "      <th>A7_Score</th>\n",
       "      <th>A8_Score</th>\n",
       "      <th>A9_Score</th>\n",
       "      <th>A10_Score</th>\n",
       "      <th>age</th>\n",
       "      <th>gender</th>\n",
       "      <th>ethnicity</th>\n",
       "      <th>jundice</th>\n",
       "      <th>austim</th>\n",
       "      <th>contry_of_res</th>\n",
       "      <th>used_app_before</th>\n",
       "      <th>result</th>\n",
       "      <th>relation</th>\n",
       "      <th>Class/ASD</th>\n",
       "    </tr>\n",
       "  </thead>\n",
       "  <tbody>\n",
       "    <tr>\n",
       "      <th>0</th>\n",
       "      <td>1</td>\n",
       "      <td>1</td>\n",
       "      <td>1</td>\n",
       "      <td>1</td>\n",
       "      <td>0</td>\n",
       "      <td>0</td>\n",
       "      <td>1</td>\n",
       "      <td>1</td>\n",
       "      <td>0</td>\n",
       "      <td>0</td>\n",
       "      <td>26</td>\n",
       "      <td>f</td>\n",
       "      <td>White-European</td>\n",
       "      <td>no</td>\n",
       "      <td>no</td>\n",
       "      <td>'United States'</td>\n",
       "      <td>no</td>\n",
       "      <td>6</td>\n",
       "      <td>Self</td>\n",
       "      <td>NO</td>\n",
       "    </tr>\n",
       "    <tr>\n",
       "      <th>1</th>\n",
       "      <td>1</td>\n",
       "      <td>1</td>\n",
       "      <td>0</td>\n",
       "      <td>1</td>\n",
       "      <td>0</td>\n",
       "      <td>0</td>\n",
       "      <td>0</td>\n",
       "      <td>1</td>\n",
       "      <td>0</td>\n",
       "      <td>1</td>\n",
       "      <td>24</td>\n",
       "      <td>m</td>\n",
       "      <td>Latino</td>\n",
       "      <td>no</td>\n",
       "      <td>yes</td>\n",
       "      <td>Brazil</td>\n",
       "      <td>no</td>\n",
       "      <td>5</td>\n",
       "      <td>Self</td>\n",
       "      <td>NO</td>\n",
       "    </tr>\n",
       "    <tr>\n",
       "      <th>2</th>\n",
       "      <td>1</td>\n",
       "      <td>1</td>\n",
       "      <td>0</td>\n",
       "      <td>1</td>\n",
       "      <td>1</td>\n",
       "      <td>0</td>\n",
       "      <td>1</td>\n",
       "      <td>1</td>\n",
       "      <td>1</td>\n",
       "      <td>1</td>\n",
       "      <td>27</td>\n",
       "      <td>m</td>\n",
       "      <td>Latino</td>\n",
       "      <td>yes</td>\n",
       "      <td>yes</td>\n",
       "      <td>Spain</td>\n",
       "      <td>no</td>\n",
       "      <td>8</td>\n",
       "      <td>Parent</td>\n",
       "      <td>YES</td>\n",
       "    </tr>\n",
       "    <tr>\n",
       "      <th>3</th>\n",
       "      <td>1</td>\n",
       "      <td>1</td>\n",
       "      <td>0</td>\n",
       "      <td>1</td>\n",
       "      <td>0</td>\n",
       "      <td>0</td>\n",
       "      <td>1</td>\n",
       "      <td>1</td>\n",
       "      <td>0</td>\n",
       "      <td>1</td>\n",
       "      <td>35</td>\n",
       "      <td>f</td>\n",
       "      <td>White-European</td>\n",
       "      <td>no</td>\n",
       "      <td>yes</td>\n",
       "      <td>'United States'</td>\n",
       "      <td>no</td>\n",
       "      <td>6</td>\n",
       "      <td>Self</td>\n",
       "      <td>NO</td>\n",
       "    </tr>\n",
       "    <tr>\n",
       "      <th>4</th>\n",
       "      <td>1</td>\n",
       "      <td>0</td>\n",
       "      <td>0</td>\n",
       "      <td>0</td>\n",
       "      <td>0</td>\n",
       "      <td>0</td>\n",
       "      <td>0</td>\n",
       "      <td>1</td>\n",
       "      <td>0</td>\n",
       "      <td>0</td>\n",
       "      <td>40</td>\n",
       "      <td>f</td>\n",
       "      <td>?</td>\n",
       "      <td>no</td>\n",
       "      <td>no</td>\n",
       "      <td>Egypt</td>\n",
       "      <td>no</td>\n",
       "      <td>2</td>\n",
       "      <td>?</td>\n",
       "      <td>NO</td>\n",
       "    </tr>\n",
       "  </tbody>\n",
       "</table>\n",
       "</div>"
      ],
      "text/plain": [
       "   A1_Score  A2_Score  A3_Score  A4_Score  A5_Score  A6_Score  A7_Score  \\\n",
       "0         1         1         1         1         0         0         1   \n",
       "1         1         1         0         1         0         0         0   \n",
       "2         1         1         0         1         1         0         1   \n",
       "3         1         1         0         1         0         0         1   \n",
       "4         1         0         0         0         0         0         0   \n",
       "\n",
       "   A8_Score  A9_Score  A10_Score age gender       ethnicity jundice austim  \\\n",
       "0         1         0          0  26      f  White-European      no     no   \n",
       "1         1         0          1  24      m          Latino      no    yes   \n",
       "2         1         1          1  27      m          Latino     yes    yes   \n",
       "3         1         0          1  35      f  White-European      no    yes   \n",
       "4         1         0          0  40      f               ?      no     no   \n",
       "\n",
       "     contry_of_res used_app_before  result relation Class/ASD  \n",
       "0  'United States'              no       6     Self        NO  \n",
       "1           Brazil              no       5     Self        NO  \n",
       "2            Spain              no       8   Parent       YES  \n",
       "3  'United States'              no       6     Self        NO  \n",
       "4            Egypt              no       2        ?        NO  "
      ]
     },
     "execution_count": 6,
     "metadata": {},
     "output_type": "execute_result"
    }
   ],
   "source": [
    "Autism.drop('age_desc',axis=1,inplace=True)\n",
    "Autism.head()"
   ]
  },
  {
   "cell_type": "code",
   "execution_count": 7,
   "id": "800859de",
   "metadata": {
    "execution": {
     "iopub.execute_input": "2022-02-05T07:57:43.167129Z",
     "iopub.status.busy": "2022-02-05T07:57:43.166387Z",
     "iopub.status.idle": "2022-02-05T07:57:43.170683Z",
     "shell.execute_reply": "2022-02-05T07:57:43.171356Z",
     "shell.execute_reply.started": "2022-02-05T06:56:48.270090Z"
    },
    "papermill": {
     "duration": 0.063356,
     "end_time": "2022-02-05T07:57:43.171557",
     "exception": false,
     "start_time": "2022-02-05T07:57:43.108201",
     "status": "completed"
    },
    "tags": []
   },
   "outputs": [],
   "source": [
    "Autism = Autism.rename(columns={'austim':'family member with PDD','jundice':'jaundice','contry_of_res':'country_of_res'})"
   ]
  },
  {
   "cell_type": "code",
   "execution_count": 8,
   "id": "4bdb998e",
   "metadata": {
    "execution": {
     "iopub.execute_input": "2022-02-05T07:57:43.301364Z",
     "iopub.status.busy": "2022-02-05T07:57:43.300258Z",
     "iopub.status.idle": "2022-02-05T07:57:43.311498Z",
     "shell.execute_reply": "2022-02-05T07:57:43.310860Z",
     "shell.execute_reply.started": "2022-02-05T06:56:48.309606Z"
    },
    "papermill": {
     "duration": 0.079476,
     "end_time": "2022-02-05T07:57:43.311660",
     "exception": false,
     "start_time": "2022-02-05T07:57:43.232184",
     "status": "completed"
    },
    "tags": []
   },
   "outputs": [],
   "source": [
    "Autism['age'] = Autism['age'].apply(lambda x: np.nan if x == '?' else int(x))\n",
    "Autism['gender'] = Autism['gender'].map({'m':1,'f':0})\n",
    "Autism['jaundice'] = Autism['jaundice'].map({'yes':1,'no':0})\n",
    "Autism['family member with PDD'] = Autism['family member with PDD'].map({'yes':1,'no':0})\n",
    "Autism['used_app_before'] = Autism['used_app_before'].map({'yes':1,'no':0})\n",
    "Autism['Class/ASD'] = Autism['Class/ASD'].map({'YES':1,'NO':0})"
   ]
  },
  {
   "cell_type": "code",
   "execution_count": 9,
   "id": "36b950ed",
   "metadata": {
    "execution": {
     "iopub.execute_input": "2022-02-05T07:57:43.435853Z",
     "iopub.status.busy": "2022-02-05T07:57:43.433190Z",
     "iopub.status.idle": "2022-02-05T07:57:43.448158Z",
     "shell.execute_reply": "2022-02-05T07:57:43.448836Z",
     "shell.execute_reply.started": "2022-02-05T06:56:48.350270Z"
    },
    "papermill": {
     "duration": 0.081924,
     "end_time": "2022-02-05T07:57:43.449080",
     "exception": false,
     "start_time": "2022-02-05T07:57:43.367156",
     "status": "completed"
    },
    "tags": []
   },
   "outputs": [
    {
     "name": "stdout",
     "output_type": "stream",
     "text": [
      "<class 'pandas.core.frame.DataFrame'>\n",
      "RangeIndex: 704 entries, 0 to 703\n",
      "Data columns (total 20 columns):\n",
      " #   Column                  Non-Null Count  Dtype  \n",
      "---  ------                  --------------  -----  \n",
      " 0   A1_Score                704 non-null    int64  \n",
      " 1   A2_Score                704 non-null    int64  \n",
      " 2   A3_Score                704 non-null    int64  \n",
      " 3   A4_Score                704 non-null    int64  \n",
      " 4   A5_Score                704 non-null    int64  \n",
      " 5   A6_Score                704 non-null    int64  \n",
      " 6   A7_Score                704 non-null    int64  \n",
      " 7   A8_Score                704 non-null    int64  \n",
      " 8   A9_Score                704 non-null    int64  \n",
      " 9   A10_Score               704 non-null    int64  \n",
      " 10  age                     702 non-null    float64\n",
      " 11  gender                  704 non-null    int64  \n",
      " 12  ethnicity               704 non-null    object \n",
      " 13  jaundice                704 non-null    int64  \n",
      " 14  family member with PDD  704 non-null    int64  \n",
      " 15  country_of_res          704 non-null    object \n",
      " 16  used_app_before         704 non-null    int64  \n",
      " 17  result                  704 non-null    int64  \n",
      " 18  relation                704 non-null    object \n",
      " 19  Class/ASD               704 non-null    int64  \n",
      "dtypes: float64(1), int64(16), object(3)\n",
      "memory usage: 110.1+ KB\n"
     ]
    }
   ],
   "source": [
    "Autism.info()"
   ]
  },
  {
   "cell_type": "code",
   "execution_count": 10,
   "id": "7d1504bf",
   "metadata": {
    "execution": {
     "iopub.execute_input": "2022-02-05T07:57:43.569829Z",
     "iopub.status.busy": "2022-02-05T07:57:43.568918Z",
     "iopub.status.idle": "2022-02-05T07:57:43.573856Z",
     "shell.execute_reply": "2022-02-05T07:57:43.573309Z",
     "shell.execute_reply.started": "2022-02-05T06:56:48.411308Z"
    },
    "papermill": {
     "duration": 0.068541,
     "end_time": "2022-02-05T07:57:43.574013",
     "exception": false,
     "start_time": "2022-02-05T07:57:43.505472",
     "status": "completed"
    },
    "tags": []
   },
   "outputs": [
    {
     "data": {
      "text/plain": [
       "0    476\n",
       "1    228\n",
       "Name: A9_Score, dtype: int64"
      ]
     },
     "execution_count": 10,
     "metadata": {},
     "output_type": "execute_result"
    }
   ],
   "source": [
    "Autism['A9_Score'].value_counts()"
   ]
  },
  {
   "cell_type": "code",
   "execution_count": 11,
   "id": "c9941c46",
   "metadata": {
    "execution": {
     "iopub.execute_input": "2022-02-05T07:57:43.699412Z",
     "iopub.status.busy": "2022-02-05T07:57:43.698551Z",
     "iopub.status.idle": "2022-02-05T07:57:43.703193Z",
     "shell.execute_reply": "2022-02-05T07:57:43.702560Z",
     "shell.execute_reply.started": "2022-02-05T06:56:48.448030Z"
    },
    "papermill": {
     "duration": 0.071248,
     "end_time": "2022-02-05T07:57:43.703376",
     "exception": false,
     "start_time": "2022-02-05T07:57:43.632128",
     "status": "completed"
    },
    "tags": []
   },
   "outputs": [],
   "source": [
    "Autism['ethnicity'] = Autism['ethnicity'].apply(lambda x: 'Others' if x == '?' else x)\n",
    "Autism['ethnicity'] = Autism['ethnicity'].apply(lambda x: 'Others' if x == 'others' else x)\n",
    "Autism['ethnicity'] = Autism['ethnicity'].apply(lambda x: 'Hispanic' if x == 'Latino' else x)"
   ]
  },
  {
   "cell_type": "code",
   "execution_count": 12,
   "id": "507847f2",
   "metadata": {
    "execution": {
     "iopub.execute_input": "2022-02-05T07:57:43.825146Z",
     "iopub.status.busy": "2022-02-05T07:57:43.824400Z",
     "iopub.status.idle": "2022-02-05T07:57:43.826470Z",
     "shell.execute_reply": "2022-02-05T07:57:43.825832Z",
     "shell.execute_reply.started": "2022-02-05T06:56:48.487854Z"
    },
    "papermill": {
     "duration": 0.065696,
     "end_time": "2022-02-05T07:57:43.826624",
     "exception": false,
     "start_time": "2022-02-05T07:57:43.760928",
     "status": "completed"
    },
    "tags": []
   },
   "outputs": [],
   "source": [
    "Autism['relation'] = Autism['relation'].apply(lambda x: 'Caregiver' if x == '?' else x)"
   ]
  },
  {
   "cell_type": "code",
   "execution_count": 13,
   "id": "ef57cb91",
   "metadata": {
    "execution": {
     "iopub.execute_input": "2022-02-05T07:57:43.956912Z",
     "iopub.status.busy": "2022-02-05T07:57:43.946141Z",
     "iopub.status.idle": "2022-02-05T07:57:43.959763Z",
     "shell.execute_reply": "2022-02-05T07:57:43.959249Z",
     "shell.execute_reply.started": "2022-02-05T06:56:48.524544Z"
    },
    "papermill": {
     "duration": 0.076956,
     "end_time": "2022-02-05T07:57:43.959948",
     "exception": false,
     "start_time": "2022-02-05T07:57:43.882992",
     "status": "completed"
    },
    "tags": []
   },
   "outputs": [
    {
     "name": "stdout",
     "output_type": "stream",
     "text": [
      "<class 'pandas.core.frame.DataFrame'>\n",
      "RangeIndex: 704 entries, 0 to 703\n",
      "Data columns (total 20 columns):\n",
      " #   Column                  Non-Null Count  Dtype  \n",
      "---  ------                  --------------  -----  \n",
      " 0   A1_Score                704 non-null    int64  \n",
      " 1   A2_Score                704 non-null    int64  \n",
      " 2   A3_Score                704 non-null    int64  \n",
      " 3   A4_Score                704 non-null    int64  \n",
      " 4   A5_Score                704 non-null    int64  \n",
      " 5   A6_Score                704 non-null    int64  \n",
      " 6   A7_Score                704 non-null    int64  \n",
      " 7   A8_Score                704 non-null    int64  \n",
      " 8   A9_Score                704 non-null    int64  \n",
      " 9   A10_Score               704 non-null    int64  \n",
      " 10  age                     702 non-null    float64\n",
      " 11  gender                  704 non-null    int64  \n",
      " 12  ethnicity               704 non-null    object \n",
      " 13  jaundice                704 non-null    int64  \n",
      " 14  family member with PDD  704 non-null    int64  \n",
      " 15  country_of_res          704 non-null    object \n",
      " 16  used_app_before         704 non-null    int64  \n",
      " 17  result                  704 non-null    int64  \n",
      " 18  relation                704 non-null    object \n",
      " 19  Class/ASD               704 non-null    int64  \n",
      "dtypes: float64(1), int64(16), object(3)\n",
      "memory usage: 110.1+ KB\n"
     ]
    }
   ],
   "source": [
    "Autism.info()"
   ]
  },
  {
   "cell_type": "code",
   "execution_count": 14,
   "id": "4c21b97d",
   "metadata": {
    "execution": {
     "iopub.execute_input": "2022-02-05T07:57:44.080117Z",
     "iopub.status.busy": "2022-02-05T07:57:44.079409Z",
     "iopub.status.idle": "2022-02-05T07:57:44.082873Z",
     "shell.execute_reply": "2022-02-05T07:57:44.083464Z",
     "shell.execute_reply.started": "2022-02-05T06:56:48.585834Z"
    },
    "papermill": {
     "duration": 0.066908,
     "end_time": "2022-02-05T07:57:44.083784",
     "exception": false,
     "start_time": "2022-02-05T07:57:44.016876",
     "status": "completed"
    },
    "tags": []
   },
   "outputs": [
    {
     "data": {
      "text/plain": [
       "White-European       233\n",
       "Others               126\n",
       "Asian                123\n",
       "'Middle Eastern '     92\n",
       "Black                 43\n",
       "'South Asian'         36\n",
       "Hispanic              33\n",
       "Pasifika              12\n",
       "Turkish                6\n",
       "Name: ethnicity, dtype: int64"
      ]
     },
     "execution_count": 14,
     "metadata": {},
     "output_type": "execute_result"
    }
   ],
   "source": [
    "Autism['ethnicity'].value_counts()"
   ]
  },
  {
   "cell_type": "code",
   "execution_count": 15,
   "id": "36e29fee",
   "metadata": {
    "execution": {
     "iopub.execute_input": "2022-02-05T07:57:44.203553Z",
     "iopub.status.busy": "2022-02-05T07:57:44.202831Z",
     "iopub.status.idle": "2022-02-05T07:57:44.205624Z",
     "shell.execute_reply": "2022-02-05T07:57:44.206187Z",
     "shell.execute_reply.started": "2022-02-05T06:56:48.618171Z"
    },
    "papermill": {
     "duration": 0.065868,
     "end_time": "2022-02-05T07:57:44.206383",
     "exception": false,
     "start_time": "2022-02-05T07:57:44.140515",
     "status": "completed"
    },
    "tags": []
   },
   "outputs": [],
   "source": [
    "#EDA"
   ]
  },
  {
   "cell_type": "code",
   "execution_count": 16,
   "id": "c5f5a82c",
   "metadata": {
    "execution": {
     "iopub.execute_input": "2022-02-05T07:57:44.328220Z",
     "iopub.status.busy": "2022-02-05T07:57:44.327467Z",
     "iopub.status.idle": "2022-02-05T07:57:45.911635Z",
     "shell.execute_reply": "2022-02-05T07:57:45.912170Z",
     "shell.execute_reply.started": "2022-02-05T06:56:48.649903Z"
    },
    "papermill": {
     "duration": 1.648497,
     "end_time": "2022-02-05T07:57:45.912365",
     "exception": false,
     "start_time": "2022-02-05T07:57:44.263868",
     "status": "completed"
    },
    "scrolled": true,
    "tags": []
   },
   "outputs": [
    {
     "data": {
      "image/png": "[encoded data removed]",
      "text/plain": [
       "<Figure size 1080x720 with 2 Axes>"
      ]
     },
     "metadata": {
      "needs_background": "light"
     },
     "output_type": "display_data"
    }
   ],
   "source": [
    "plt.figure(figsize=(15,10))\n",
    "sns.heatmap(Autism.corr(),annot=True)\n",
    "plt.title('Heatmap of Variable Correlations')\n",
    "plt.show()"
   ]
  },
  {
   "cell_type": "code",
   "execution_count": 17,
   "id": "acaf51f7",
   "metadata": {
    "execution": {
     "iopub.execute_input": "2022-02-05T07:57:46.040733Z",
     "iopub.status.busy": "2022-02-05T07:57:46.040030Z",
     "iopub.status.idle": "2022-02-05T07:57:46.042597Z",
     "shell.execute_reply": "2022-02-05T07:57:46.043135Z",
     "shell.execute_reply.started": "2022-02-05T06:56:51.961799Z"
    },
    "papermill": {
     "duration": 0.068981,
     "end_time": "2022-02-05T07:57:46.043342",
     "exception": false,
     "start_time": "2022-02-05T07:57:45.974361",
     "status": "completed"
    },
    "tags": []
   },
   "outputs": [],
   "source": [
    "#ASD correlates with A9, A6, A5 and A4 scores. Also corelates highly with result which is expected. "
   ]
  },
  {
   "cell_type": "code",
   "execution_count": 18,
   "id": "d0be3407",
   "metadata": {
    "execution": {
     "iopub.execute_input": "2022-02-05T07:57:46.174095Z",
     "iopub.status.busy": "2022-02-05T07:57:46.173377Z",
     "iopub.status.idle": "2022-02-05T07:57:46.444034Z",
     "shell.execute_reply": "2022-02-05T07:57:46.443435Z",
     "shell.execute_reply.started": "2022-02-05T06:56:51.971830Z"
    },
    "papermill": {
     "duration": 0.337875,
     "end_time": "2022-02-05T07:57:46.444195",
     "exception": false,
     "start_time": "2022-02-05T07:57:46.106320",
     "status": "completed"
    },
    "tags": []
   },
   "outputs": [
    {
     "data": {
      "image/png": "[encoded data removed]",
      "text/plain": [
       "<Figure size 1080x360 with 1 Axes>"
      ]
     },
     "metadata": {
      "needs_background": "light"
     },
     "output_type": "display_data"
    }
   ],
   "source": [
    "plt.figure(figsize=(15,5))\n",
    "sns.barplot(x='gender',y='Class/ASD',data=Autism)\n",
    "plt.title('Autism Spectrum Disorder vs Gender')\n",
    "plt.xlabel('Gender')\n",
    "plt.ylabel('Autism Spectrum Disorder')\n",
    "plt.show()"
   ]
  },
  {
   "cell_type": "code",
   "execution_count": 19,
   "id": "99868515",
   "metadata": {
    "execution": {
     "iopub.execute_input": "2022-02-05T07:57:46.577007Z",
     "iopub.status.busy": "2022-02-05T07:57:46.576325Z",
     "iopub.status.idle": "2022-02-05T07:57:47.121878Z",
     "shell.execute_reply": "2022-02-05T07:57:47.122418Z",
     "shell.execute_reply.started": "2022-02-05T06:56:52.470628Z"
    },
    "papermill": {
     "duration": 0.613903,
     "end_time": "2022-02-05T07:57:47.122625",
     "exception": false,
     "start_time": "2022-02-05T07:57:46.508722",
     "status": "completed"
    },
    "tags": []
   },
   "outputs": [
    {
     "data": {
      "image/png": "[encoded data removed]",
      "text/plain": [
       "<Figure size 1080x360 with 1 Axes>"
      ]
     },
     "metadata": {
      "needs_background": "light"
     },
     "output_type": "display_data"
    }
   ],
   "source": [
    "plt.figure(figsize=(15,5))\n",
    "sns.barplot(x='ethnicity',y='Class/ASD',data=Autism)\n",
    "plt.title('Autism Spectrum Disorder vs Ethnicity')\n",
    "plt.xlabel('Ethnicity')\n",
    "plt.ylabel('Autism Spectrum Disorder')\n",
    "plt.show()"
   ]
  },
  {
   "cell_type": "code",
   "execution_count": 20,
   "id": "923f1cee",
   "metadata": {
    "execution": {
     "iopub.execute_input": "2022-02-05T07:57:47.254509Z",
     "iopub.status.busy": "2022-02-05T07:57:47.253798Z",
     "iopub.status.idle": "2022-02-05T07:57:47.503633Z",
     "shell.execute_reply": "2022-02-05T07:57:47.503035Z",
     "shell.execute_reply.started": "2022-02-05T06:56:53.699590Z"
    },
    "papermill": {
     "duration": 0.317535,
     "end_time": "2022-02-05T07:57:47.503808",
     "exception": false,
     "start_time": "2022-02-05T07:57:47.186273",
     "status": "completed"
    },
    "tags": []
   },
   "outputs": [
    {
     "data": {
      "image/png": "[encoded data removed]",
      "text/plain": [
       "<Figure size 1080x360 with 1 Axes>"
      ]
     },
     "metadata": {
      "needs_background": "light"
     },
     "output_type": "display_data"
    }
   ],
   "source": [
    "plt.figure(figsize=(15,5))\n",
    "sns.barplot(x='jaundice',y='Class/ASD',data=Autism)\n",
    "plt.title('Autism Spectrum Disorder vs Jaundice')\n",
    "plt.xlabel('Jaundice')\n",
    "plt.ylabel('Autism Spectrum Disorder')\n",
    "plt.show()"
   ]
  },
  {
   "cell_type": "code",
   "execution_count": 21,
   "id": "b3a0e40a",
   "metadata": {
    "execution": {
     "iopub.execute_input": "2022-02-05T07:57:47.643198Z",
     "iopub.status.busy": "2022-02-05T07:57:47.642491Z",
     "iopub.status.idle": "2022-02-05T07:57:47.893982Z",
     "shell.execute_reply": "2022-02-05T07:57:47.894653Z",
     "shell.execute_reply.started": "2022-02-05T06:56:54.119428Z"
    },
    "papermill": {
     "duration": 0.320956,
     "end_time": "2022-02-05T07:57:47.894921",
     "exception": false,
     "start_time": "2022-02-05T07:57:47.573965",
     "status": "completed"
    },
    "tags": []
   },
   "outputs": [
    {
     "data": {
      "image/png": "[encoded data removed]",
      "text/plain": [
       "<Figure size 1080x360 with 1 Axes>"
      ]
     },
     "metadata": {
      "needs_background": "light"
     },
     "output_type": "display_data"
    }
   ],
   "source": [
    "plt.figure(figsize=(15,5))\n",
    "sns.barplot(x='family member with PDD',y='Class/ASD',data=Autism)\n",
    "plt.title('Autism Spectrum Disorder vs Family member with PDD')\n",
    "plt.xlabel('Family member with PDD')\n",
    "plt.ylabel('Autism Spectrum Disorder')\n",
    "plt.show()"
   ]
  },
  {
   "cell_type": "code",
   "execution_count": 22,
   "id": "cf1876c9",
   "metadata": {
    "execution": {
     "iopub.execute_input": "2022-02-05T07:57:48.035085Z",
     "iopub.status.busy": "2022-02-05T07:57:48.034371Z",
     "iopub.status.idle": "2022-02-05T07:57:48.665110Z",
     "shell.execute_reply": "2022-02-05T07:57:48.665596Z",
     "shell.execute_reply.started": "2022-02-05T06:56:54.827802Z"
    },
    "papermill": {
     "duration": 0.703368,
     "end_time": "2022-02-05T07:57:48.665796",
     "exception": false,
     "start_time": "2022-02-05T07:57:47.962428",
     "status": "completed"
    },
    "tags": []
   },
   "outputs": [
    {
     "data": {
      "image/png": "[encoded data removed]",
      "text/plain": [
       "<Figure size 1080x360 with 1 Axes>"
      ]
     },
     "metadata": {
      "needs_background": "light"
     },
     "output_type": "display_data"
    }
   ],
   "source": [
    "plt.figure(figsize=(15,5))\n",
    "sns.barplot(x='relation',y='Class/ASD',data=Autism)\n",
    "plt.title('Autism Spectrum Disorder vs Relation to the Examinee')\n",
    "plt.xlabel('Relation to the Examinee')\n",
    "plt.ylabel('Autism Spectrum Disorder')\n",
    "plt.show()"
   ]
  },
  {
   "cell_type": "code",
   "execution_count": 23,
   "id": "4247320b",
   "metadata": {
    "execution": {
     "iopub.execute_input": "2022-02-05T07:57:48.802192Z",
     "iopub.status.busy": "2022-02-05T07:57:48.801473Z",
     "iopub.status.idle": "2022-02-05T07:57:49.058078Z",
     "shell.execute_reply": "2022-02-05T07:57:49.056789Z",
     "shell.execute_reply.started": "2022-02-05T06:56:55.380840Z"
    },
    "papermill": {
     "duration": 0.326455,
     "end_time": "2022-02-05T07:57:49.058241",
     "exception": false,
     "start_time": "2022-02-05T07:57:48.731786",
     "status": "completed"
    },
    "tags": []
   },
   "outputs": [
    {
     "data": {
      "image/png": "[encoded data removed]",
      "text/plain": [
       "<Figure size 1080x360 with 1 Axes>"
      ]
     },
     "metadata": {
      "needs_background": "light"
     },
     "output_type": "display_data"
    }
   ],
   "source": [
    "plt.figure(figsize=(15,5))\n",
    "sns.barplot(x='Class/ASD',y='age',data=Autism)\n",
    "plt.title('Autism Spectrum Disorder vs Age')\n",
    "plt.ylabel('Age')\n",
    "plt.xlabel('Autism Spectrum Disorder')\n",
    "plt.show()"
   ]
  },
  {
   "cell_type": "code",
   "execution_count": 24,
   "id": "6a069394",
   "metadata": {
    "execution": {
     "iopub.execute_input": "2022-02-05T07:57:49.201383Z",
     "iopub.status.busy": "2022-02-05T07:57:49.200535Z",
     "iopub.status.idle": "2022-02-05T07:57:49.203854Z",
     "shell.execute_reply": "2022-02-05T07:57:49.204348Z",
     "shell.execute_reply.started": "2022-02-05T06:56:55.846834Z"
    },
    "papermill": {
     "duration": 0.079865,
     "end_time": "2022-02-05T07:57:49.204513",
     "exception": false,
     "start_time": "2022-02-05T07:57:49.124648",
     "status": "completed"
    },
    "scrolled": true,
    "tags": []
   },
   "outputs": [
    {
     "data": {
      "text/plain": [
       "'United States'           113\n",
       "'United Arab Emirates'     82\n",
       "'New Zealand'              81\n",
       "India                      81\n",
       "'United Kingdom'           77\n",
       "Jordan                     47\n",
       "Australia                  27\n",
       "Canada                     15\n",
       "'Sri Lanka'                14\n",
       "Afghanistan                13\n",
       "France                     11\n",
       "Netherlands                10\n",
       "Brazil                      9\n",
       "Mexico                      8\n",
       "Russia                      7\n",
       "Iran                        7\n",
       "Ireland                     5\n",
       "Malaysia                    5\n",
       "'Viet Nam'                  5\n",
       "Italy                       5\n",
       "Germany                     4\n",
       "Austria                     4\n",
       "Philippines                 4\n",
       "'Saudi Arabia'              4\n",
       "Kazakhstan                  3\n",
       "Belgium                     3\n",
       "Romania                     3\n",
       "Spain                       3\n",
       "Bangladesh                  3\n",
       "Pakistan                    3\n",
       "Egypt                       3\n",
       "Sweden                      2\n",
       "AmericanSamoa               2\n",
       "Ethiopia                    2\n",
       "'South Africa'              2\n",
       "Ukraine                     2\n",
       "Argentina                   2\n",
       "Bahamas                     2\n",
       "Armenia                     2\n",
       "Iceland                     2\n",
       "Aruba                       1\n",
       "Niger                       1\n",
       "Bolivia                     1\n",
       "'Czech Republic'            1\n",
       "Finland                     1\n",
       "Indonesia                   1\n",
       "Turkey                      1\n",
       "Iraq                        1\n",
       "Azerbaijan                  1\n",
       "Angola                      1\n",
       "Nepal                       1\n",
       "Ecuador                     1\n",
       "'Sierra Leone'              1\n",
       "Portugal                    1\n",
       "Serbia                      1\n",
       "Uruguay                     1\n",
       "Japan                       1\n",
       "'Hong Kong'                 1\n",
       "Nicaragua                   1\n",
       "'Costa Rica'                1\n",
       "Oman                        1\n",
       "Tonga                       1\n",
       "China                       1\n",
       "Chile                       1\n",
       "Lebanon                     1\n",
       "Burundi                     1\n",
       "Cyprus                      1\n",
       "Name: country_of_res, dtype: int64"
      ]
     },
     "execution_count": 24,
     "metadata": {},
     "output_type": "execute_result"
    }
   ],
   "source": [
    "pd.set_option('display.max_rows', 100)\n",
    "Autism['country_of_res'].value_counts()"
   ]
  },
  {
   "cell_type": "code",
   "execution_count": 25,
   "id": "bebe0c91",
   "metadata": {
    "execution": {
     "iopub.execute_input": "2022-02-05T07:57:49.351936Z",
     "iopub.status.busy": "2022-02-05T07:57:49.345003Z",
     "iopub.status.idle": "2022-02-05T07:57:49.359320Z",
     "shell.execute_reply": "2022-02-05T07:57:49.358598Z",
     "shell.execute_reply.started": "2022-02-05T06:56:55.879684Z"
    },
    "papermill": {
     "duration": 0.086935,
     "end_time": "2022-02-05T07:57:49.359494",
     "exception": false,
     "start_time": "2022-02-05T07:57:49.272559",
     "status": "completed"
    },
    "tags": []
   },
   "outputs": [
    {
     "data": {
      "text/plain": [
       "Others                    133\n",
       "'United States'           113\n",
       "'United Arab Emirates'     82\n",
       "'New Zealand'              81\n",
       "India                      81\n",
       "'United Kingdom'           77\n",
       "Jordan                     47\n",
       "Australia                  27\n",
       "Canada                     15\n",
       "'Sri Lanka'                14\n",
       "Afghanistan                13\n",
       "France                     11\n",
       "Netherlands                10\n",
       "Name: country_of_res, dtype: int64"
      ]
     },
     "execution_count": 25,
     "metadata": {},
     "output_type": "execute_result"
    }
   ],
   "source": [
    "Autism_country_of_res = pd.DataFrame(Autism['country_of_res'].value_counts())\n",
    "lis = list(Autism_country_of_res[Autism_country_of_res.country_of_res < 10].index)\n",
    "Autism['country_of_res'] = Autism['country_of_res'].apply(lambda x: 'Others' if x in lis else x)\n",
    "Autism['country_of_res'].value_counts()"
   ]
  },
  {
   "cell_type": "code",
   "execution_count": 26,
   "id": "8a002d55",
   "metadata": {
    "execution": {
     "iopub.execute_input": "2022-02-05T07:57:49.503020Z",
     "iopub.status.busy": "2022-02-05T07:57:49.502261Z",
     "iopub.status.idle": "2022-02-05T07:57:50.201775Z",
     "shell.execute_reply": "2022-02-05T07:57:50.201189Z",
     "shell.execute_reply.started": "2022-02-05T06:56:55.926461Z"
    },
    "papermill": {
     "duration": 0.774383,
     "end_time": "2022-02-05T07:57:50.201949",
     "exception": false,
     "start_time": "2022-02-05T07:57:49.427566",
     "status": "completed"
    },
    "tags": []
   },
   "outputs": [
    {
     "data": {
      "image/png": "[encoded data removed]",
      "text/plain": [
       "<Figure size 1080x360 with 1 Axes>"
      ]
     },
     "metadata": {
      "needs_background": "light"
     },
     "output_type": "display_data"
    }
   ],
   "source": [
    "plt.figure(figsize=(15,5))\n",
    "sns.barplot(x='Class/ASD',y='country_of_res',data=Autism)\n",
    "plt.title('Autism Spectrum Disorder vs Country')\n",
    "plt.ylabel('Country')\n",
    "plt.xlabel('Autism Spectrum Disorder')\n",
    "plt.show()"
   ]
  },
  {
   "cell_type": "code",
   "execution_count": 27,
   "id": "6d001137",
   "metadata": {
    "execution": {
     "iopub.execute_input": "2022-02-05T07:57:50.347999Z",
     "iopub.status.busy": "2022-02-05T07:57:50.347083Z",
     "iopub.status.idle": "2022-02-05T07:57:50.348677Z",
     "shell.execute_reply": "2022-02-05T07:57:50.349284Z",
     "shell.execute_reply.started": "2022-02-05T06:56:57.257503Z"
    },
    "papermill": {
     "duration": 0.07652,
     "end_time": "2022-02-05T07:57:50.349457",
     "exception": false,
     "start_time": "2022-02-05T07:57:50.272937",
     "status": "completed"
    },
    "tags": []
   },
   "outputs": [],
   "source": [
    "#Model building"
   ]
  },
  {
   "cell_type": "code",
   "execution_count": 28,
   "id": "b0f3c0c2",
   "metadata": {
    "execution": {
     "iopub.execute_input": "2022-02-05T07:57:50.490024Z",
     "iopub.status.busy": "2022-02-05T07:57:50.489323Z",
     "iopub.status.idle": "2022-02-05T07:57:50.493705Z",
     "shell.execute_reply": "2022-02-05T07:57:50.493058Z",
     "shell.execute_reply.started": "2022-02-05T06:56:57.270235Z"
    },
    "papermill": {
     "duration": 0.076313,
     "end_time": "2022-02-05T07:57:50.493853",
     "exception": false,
     "start_time": "2022-02-05T07:57:50.417540",
     "status": "completed"
    },
    "tags": []
   },
   "outputs": [],
   "source": [
    "#We will build a model to predict the a case of ASD or not based on the features provided."
   ]
  },
  {
   "cell_type": "code",
   "execution_count": 29,
   "id": "4a9d3015",
   "metadata": {
    "execution": {
     "iopub.execute_input": "2022-02-05T07:57:50.658719Z",
     "iopub.status.busy": "2022-02-05T07:57:50.658086Z",
     "iopub.status.idle": "2022-02-05T07:57:50.674858Z",
     "shell.execute_reply": "2022-02-05T07:57:50.675604Z",
     "shell.execute_reply.started": "2022-02-05T06:56:57.302394Z"
    },
    "papermill": {
     "duration": 0.112971,
     "end_time": "2022-02-05T07:57:50.675836",
     "exception": false,
     "start_time": "2022-02-05T07:57:50.562865",
     "status": "completed"
    },
    "tags": []
   },
   "outputs": [
    {
     "name": "stdout",
     "output_type": "stream",
     "text": [
      "<class 'pandas.core.frame.DataFrame'>\n",
      "RangeIndex: 704 entries, 0 to 703\n",
      "Data columns (total 20 columns):\n",
      " #   Column                  Non-Null Count  Dtype  \n",
      "---  ------                  --------------  -----  \n",
      " 0   A1_Score                704 non-null    int64  \n",
      " 1   A2_Score                704 non-null    int64  \n",
      " 2   A3_Score                704 non-null    int64  \n",
      " 3   A4_Score                704 non-null    int64  \n",
      " 4   A5_Score                704 non-null    int64  \n",
      " 5   A6_Score                704 non-null    int64  \n",
      " 6   A7_Score                704 non-null    int64  \n",
      " 7   A8_Score                704 non-null    int64  \n",
      " 8   A9_Score                704 non-null    int64  \n",
      " 9   A10_Score               704 non-null    int64  \n",
      " 10  age                     702 non-null    float64\n",
      " 11  gender                  704 non-null    int64  \n",
      " 12  ethnicity               704 non-null    object \n",
      " 13  jaundice                704 non-null    int64  \n",
      " 14  family member with PDD  704 non-null    int64  \n",
      " 15  country_of_res          704 non-null    object \n",
      " 16  used_app_before         704 non-null    int64  \n",
      " 17  result                  704 non-null    int64  \n",
      " 18  relation                704 non-null    object \n",
      " 19  Class/ASD               704 non-null    int64  \n",
      "dtypes: float64(1), int64(16), object(3)\n",
      "memory usage: 110.1+ KB\n"
     ]
    }
   ],
   "source": [
    "Autism.info()"
   ]
  },
  {
   "cell_type": "code",
   "execution_count": 30,
   "id": "2899a7b8",
   "metadata": {
    "execution": {
     "iopub.execute_input": "2022-02-05T07:57:50.830793Z",
     "iopub.status.busy": "2022-02-05T07:57:50.830110Z",
     "iopub.status.idle": "2022-02-05T07:57:50.849488Z",
     "shell.execute_reply": "2022-02-05T07:57:50.850006Z",
     "shell.execute_reply.started": "2022-02-05T06:56:57.366266Z"
    },
    "papermill": {
     "duration": 0.098128,
     "end_time": "2022-02-05T07:57:50.850199",
     "exception": false,
     "start_time": "2022-02-05T07:57:50.752071",
     "status": "completed"
    },
    "tags": []
   },
   "outputs": [],
   "source": [
    "temp = pd.get_dummies(Autism['ethnicity'],drop_first=False)\n",
    "Autism = pd.concat([Autism,temp],axis=1)\n",
    "Autism.drop('ethnicity',axis=1,inplace=True)\n",
    "\n",
    "temp = pd.get_dummies(Autism['country_of_res'],drop_first=False)\n",
    "Autism = pd.concat([Autism,temp],axis=1)\n",
    "Autism.drop('country_of_res',axis=1,inplace=True)\n",
    "\n",
    "temp = pd.get_dummies(Autism['relation'],drop_first=False)\n",
    "Autism = pd.concat([Autism,temp],axis=1)\n",
    "Autism.drop('relation',axis=1,inplace=True)"
   ]
  },
  {
   "cell_type": "code",
   "execution_count": 31,
   "id": "890106e2",
   "metadata": {
    "execution": {
     "iopub.execute_input": "2022-02-05T07:57:50.991335Z",
     "iopub.status.busy": "2022-02-05T07:57:50.990689Z",
     "iopub.status.idle": "2022-02-05T07:57:51.378767Z",
     "shell.execute_reply": "2022-02-05T07:57:51.378124Z",
     "shell.execute_reply.started": "2022-02-05T06:56:57.420751Z"
    },
    "papermill": {
     "duration": 0.46024,
     "end_time": "2022-02-05T07:57:51.378946",
     "exception": false,
     "start_time": "2022-02-05T07:57:50.918706",
     "status": "completed"
    },
    "tags": []
   },
   "outputs": [],
   "source": [
    "from sklearn.experimental import enable_iterative_imputer\n",
    "from sklearn.impute import IterativeImputer"
   ]
  },
  {
   "cell_type": "code",
   "execution_count": 32,
   "id": "750d98cc",
   "metadata": {
    "execution": {
     "iopub.execute_input": "2022-02-05T07:57:51.528763Z",
     "iopub.status.busy": "2022-02-05T07:57:51.528025Z",
     "iopub.status.idle": "2022-02-05T07:57:52.147704Z",
     "shell.execute_reply": "2022-02-05T07:57:52.148714Z",
     "shell.execute_reply.started": "2022-02-05T06:56:58.166392Z"
    },
    "papermill": {
     "duration": 0.699009,
     "end_time": "2022-02-05T07:57:52.149081",
     "exception": false,
     "start_time": "2022-02-05T07:57:51.450072",
     "status": "completed"
    },
    "tags": []
   },
   "outputs": [],
   "source": [
    "imputer = IterativeImputer()\n",
    "col = Autism.columns\n",
    "Autism = imputer.fit_transform(Autism)\n",
    "Autism = pd.DataFrame(Autism,columns=col)"
   ]
  },
  {
   "cell_type": "code",
   "execution_count": 33,
   "id": "f0f1d501",
   "metadata": {
    "execution": {
     "iopub.execute_input": "2022-02-05T07:57:52.351782Z",
     "iopub.status.busy": "2022-02-05T07:57:52.350684Z",
     "iopub.status.idle": "2022-02-05T07:57:52.380619Z",
     "shell.execute_reply": "2022-02-05T07:57:52.381211Z",
     "shell.execute_reply.started": "2022-02-05T06:56:59.786605Z"
    },
    "papermill": {
     "duration": 0.107986,
     "end_time": "2022-02-05T07:57:52.381411",
     "exception": false,
     "start_time": "2022-02-05T07:57:52.273425",
     "status": "completed"
    },
    "tags": []
   },
   "outputs": [
    {
     "data": {
      "text/html": [
       "<div>\n",
       "<style scoped>\n",
       "    .dataframe tbody tr th:only-of-type {\n",
       "        vertical-align: middle;\n",
       "    }\n",
       "\n",
       "    .dataframe tbody tr th {\n",
       "        vertical-align: top;\n",
       "    }\n",
       "\n",
       "    .dataframe thead th {\n",
       "        text-align: right;\n",
       "    }\n",
       "</style>\n",
       "<table border=\"1\" class=\"dataframe\">\n",
       "  <thead>\n",
       "    <tr style=\"text-align: right;\">\n",
       "      <th></th>\n",
       "      <th>A1_Score</th>\n",
       "      <th>A2_Score</th>\n",
       "      <th>A3_Score</th>\n",
       "      <th>A4_Score</th>\n",
       "      <th>A5_Score</th>\n",
       "      <th>A6_Score</th>\n",
       "      <th>A7_Score</th>\n",
       "      <th>A8_Score</th>\n",
       "      <th>A9_Score</th>\n",
       "      <th>A10_Score</th>\n",
       "      <th>...</th>\n",
       "      <th>India</th>\n",
       "      <th>Jordan</th>\n",
       "      <th>Netherlands</th>\n",
       "      <th>Others</th>\n",
       "      <th>'Health care professional'</th>\n",
       "      <th>Caregiver</th>\n",
       "      <th>Others</th>\n",
       "      <th>Parent</th>\n",
       "      <th>Relative</th>\n",
       "      <th>Self</th>\n",
       "    </tr>\n",
       "  </thead>\n",
       "  <tbody>\n",
       "    <tr>\n",
       "      <th>0</th>\n",
       "      <td>1.0</td>\n",
       "      <td>1.0</td>\n",
       "      <td>1.0</td>\n",
       "      <td>1.0</td>\n",
       "      <td>0.0</td>\n",
       "      <td>0.0</td>\n",
       "      <td>1.0</td>\n",
       "      <td>1.0</td>\n",
       "      <td>0.0</td>\n",
       "      <td>0.0</td>\n",
       "      <td>...</td>\n",
       "      <td>0.0</td>\n",
       "      <td>0.0</td>\n",
       "      <td>0.0</td>\n",
       "      <td>0.0</td>\n",
       "      <td>0.0</td>\n",
       "      <td>0.0</td>\n",
       "      <td>0.0</td>\n",
       "      <td>0.0</td>\n",
       "      <td>0.0</td>\n",
       "      <td>1.0</td>\n",
       "    </tr>\n",
       "    <tr>\n",
       "      <th>1</th>\n",
       "      <td>1.0</td>\n",
       "      <td>1.0</td>\n",
       "      <td>0.0</td>\n",
       "      <td>1.0</td>\n",
       "      <td>0.0</td>\n",
       "      <td>0.0</td>\n",
       "      <td>0.0</td>\n",
       "      <td>1.0</td>\n",
       "      <td>0.0</td>\n",
       "      <td>1.0</td>\n",
       "      <td>...</td>\n",
       "      <td>0.0</td>\n",
       "      <td>0.0</td>\n",
       "      <td>0.0</td>\n",
       "      <td>1.0</td>\n",
       "      <td>0.0</td>\n",
       "      <td>0.0</td>\n",
       "      <td>0.0</td>\n",
       "      <td>0.0</td>\n",
       "      <td>0.0</td>\n",
       "      <td>1.0</td>\n",
       "    </tr>\n",
       "    <tr>\n",
       "      <th>2</th>\n",
       "      <td>1.0</td>\n",
       "      <td>1.0</td>\n",
       "      <td>0.0</td>\n",
       "      <td>1.0</td>\n",
       "      <td>1.0</td>\n",
       "      <td>0.0</td>\n",
       "      <td>1.0</td>\n",
       "      <td>1.0</td>\n",
       "      <td>1.0</td>\n",
       "      <td>1.0</td>\n",
       "      <td>...</td>\n",
       "      <td>0.0</td>\n",
       "      <td>0.0</td>\n",
       "      <td>0.0</td>\n",
       "      <td>1.0</td>\n",
       "      <td>0.0</td>\n",
       "      <td>0.0</td>\n",
       "      <td>0.0</td>\n",
       "      <td>1.0</td>\n",
       "      <td>0.0</td>\n",
       "      <td>0.0</td>\n",
       "    </tr>\n",
       "    <tr>\n",
       "      <th>3</th>\n",
       "      <td>1.0</td>\n",
       "      <td>1.0</td>\n",
       "      <td>0.0</td>\n",
       "      <td>1.0</td>\n",
       "      <td>0.0</td>\n",
       "      <td>0.0</td>\n",
       "      <td>1.0</td>\n",
       "      <td>1.0</td>\n",
       "      <td>0.0</td>\n",
       "      <td>1.0</td>\n",
       "      <td>...</td>\n",
       "      <td>0.0</td>\n",
       "      <td>0.0</td>\n",
       "      <td>0.0</td>\n",
       "      <td>0.0</td>\n",
       "      <td>0.0</td>\n",
       "      <td>0.0</td>\n",
       "      <td>0.0</td>\n",
       "      <td>0.0</td>\n",
       "      <td>0.0</td>\n",
       "      <td>1.0</td>\n",
       "    </tr>\n",
       "    <tr>\n",
       "      <th>4</th>\n",
       "      <td>1.0</td>\n",
       "      <td>0.0</td>\n",
       "      <td>0.0</td>\n",
       "      <td>0.0</td>\n",
       "      <td>0.0</td>\n",
       "      <td>0.0</td>\n",
       "      <td>0.0</td>\n",
       "      <td>1.0</td>\n",
       "      <td>0.0</td>\n",
       "      <td>0.0</td>\n",
       "      <td>...</td>\n",
       "      <td>0.0</td>\n",
       "      <td>0.0</td>\n",
       "      <td>0.0</td>\n",
       "      <td>1.0</td>\n",
       "      <td>0.0</td>\n",
       "      <td>1.0</td>\n",
       "      <td>0.0</td>\n",
       "      <td>0.0</td>\n",
       "      <td>0.0</td>\n",
       "      <td>0.0</td>\n",
       "    </tr>\n",
       "  </tbody>\n",
       "</table>\n",
       "<p>5 rows × 45 columns</p>\n",
       "</div>"
      ],
      "text/plain": [
       "   A1_Score  A2_Score  A3_Score  A4_Score  A5_Score  A6_Score  A7_Score  \\\n",
       "0       1.0       1.0       1.0       1.0       0.0       0.0       1.0   \n",
       "1       1.0       1.0       0.0       1.0       0.0       0.0       0.0   \n",
       "2       1.0       1.0       0.0       1.0       1.0       0.0       1.0   \n",
       "3       1.0       1.0       0.0       1.0       0.0       0.0       1.0   \n",
       "4       1.0       0.0       0.0       0.0       0.0       0.0       0.0   \n",
       "\n",
       "   A8_Score  A9_Score  A10_Score  ...  India  Jordan  Netherlands  Others  \\\n",
       "0       1.0       0.0        0.0  ...    0.0     0.0          0.0     0.0   \n",
       "1       1.0       0.0        1.0  ...    0.0     0.0          0.0     1.0   \n",
       "2       1.0       1.0        1.0  ...    0.0     0.0          0.0     1.0   \n",
       "3       1.0       0.0        1.0  ...    0.0     0.0          0.0     0.0   \n",
       "4       1.0       0.0        0.0  ...    0.0     0.0          0.0     1.0   \n",
       "\n",
       "   'Health care professional'  Caregiver  Others  Parent  Relative  Self  \n",
       "0                         0.0        0.0     0.0     0.0       0.0   1.0  \n",
       "1                         0.0        0.0     0.0     0.0       0.0   1.0  \n",
       "2                         0.0        0.0     0.0     1.0       0.0   0.0  \n",
       "3                         0.0        0.0     0.0     0.0       0.0   1.0  \n",
       "4                         0.0        1.0     0.0     0.0       0.0   0.0  \n",
       "\n",
       "[5 rows x 45 columns]"
      ]
     },
     "execution_count": 33,
     "metadata": {},
     "output_type": "execute_result"
    }
   ],
   "source": [
    "Autism.head()"
   ]
  },
  {
   "cell_type": "code",
   "execution_count": 34,
   "id": "4ad819e8",
   "metadata": {
    "execution": {
     "iopub.execute_input": "2022-02-05T07:57:52.527787Z",
     "iopub.status.busy": "2022-02-05T07:57:52.526700Z",
     "iopub.status.idle": "2022-02-05T07:57:52.544908Z",
     "shell.execute_reply": "2022-02-05T07:57:52.545392Z",
     "shell.execute_reply.started": "2022-02-05T06:56:59.933892Z"
    },
    "papermill": {
     "duration": 0.09363,
     "end_time": "2022-02-05T07:57:52.545589",
     "exception": false,
     "start_time": "2022-02-05T07:57:52.451959",
     "status": "completed"
    },
    "scrolled": true,
    "tags": []
   },
   "outputs": [
    {
     "data": {
      "text/plain": [
       "21.0     49\n",
       "20.0     46\n",
       "23.0     37\n",
       "22.0     37\n",
       "19.0     35\n",
       "24.0     34\n",
       "27.0     31\n",
       "18.0     31\n",
       "30.0     30\n",
       "26.0     29\n",
       "29.0     28\n",
       "25.0     27\n",
       "28.0     24\n",
       "31.0     21\n",
       "17.0     18\n",
       "32.0     18\n",
       "35.0     17\n",
       "37.0     17\n",
       "33.0     16\n",
       "40.0     16\n",
       "42.0     15\n",
       "36.0     13\n",
       "38.0     12\n",
       "34.0     12\n",
       "43.0     11\n",
       "44.0     10\n",
       "47.0      8\n",
       "39.0      7\n",
       "53.0      6\n",
       "55.0      6\n",
       "46.0      6\n",
       "50.0      5\n",
       "52.0      5\n",
       "45.0      4\n",
       "48.0      4\n",
       "49.0      3\n",
       "41.0      3\n",
       "58.0      2\n",
       "54.0      2\n",
       "56.0      2\n",
       "61.0      2\n",
       "59.0      1\n",
       "64.0      1\n",
       "60.0      1\n",
       "383.0     1\n",
       "51.0      1\n",
       "Name: age, dtype: int64"
      ]
     },
     "execution_count": 34,
     "metadata": {},
     "output_type": "execute_result"
    }
   ],
   "source": [
    "Autism.age.value_counts()\n",
    "Autism.age = Autism.age.round(decimals=0)\n",
    "Autism.age.value_counts()"
   ]
  },
  {
   "cell_type": "code",
   "execution_count": 35,
   "id": "a3d297fa",
   "metadata": {
    "execution": {
     "iopub.execute_input": "2022-02-05T07:57:52.692237Z",
     "iopub.status.busy": "2022-02-05T07:57:52.691235Z",
     "iopub.status.idle": "2022-02-05T07:57:52.699939Z",
     "shell.execute_reply": "2022-02-05T07:57:52.700557Z",
     "shell.execute_reply.started": "2022-02-05T06:56:59.979626Z"
    },
    "papermill": {
     "duration": 0.083096,
     "end_time": "2022-02-05T07:57:52.700754",
     "exception": false,
     "start_time": "2022-02-05T07:57:52.617658",
     "status": "completed"
    },
    "tags": []
   },
   "outputs": [
    {
     "data": {
      "text/plain": [
       "0.0    515\n",
       "1.0    189\n",
       "Name: Class/ASD, dtype: int64"
      ]
     },
     "execution_count": 35,
     "metadata": {},
     "output_type": "execute_result"
    }
   ],
   "source": [
    "Autism['Class/ASD'].value_counts()"
   ]
  },
  {
   "cell_type": "code",
   "execution_count": 36,
   "id": "72c8d213",
   "metadata": {
    "execution": {
     "iopub.execute_input": "2022-02-05T07:57:52.850105Z",
     "iopub.status.busy": "2022-02-05T07:57:52.849004Z",
     "iopub.status.idle": "2022-02-05T07:57:52.850980Z",
     "shell.execute_reply": "2022-02-05T07:57:52.851462Z",
     "shell.execute_reply.started": "2022-02-05T06:57:00.019116Z"
    },
    "papermill": {
     "duration": 0.079013,
     "end_time": "2022-02-05T07:57:52.851651",
     "exception": false,
     "start_time": "2022-02-05T07:57:52.772638",
     "status": "completed"
    },
    "tags": []
   },
   "outputs": [],
   "source": [
    "#Dropping the result column as it is an amalgamation of the A1 to 10 columns. "
   ]
  },
  {
   "cell_type": "code",
   "execution_count": 37,
   "id": "7acc213f",
   "metadata": {
    "execution": {
     "iopub.execute_input": "2022-02-05T07:57:52.998699Z",
     "iopub.status.busy": "2022-02-05T07:57:52.997674Z",
     "iopub.status.idle": "2022-02-05T07:57:53.040395Z",
     "shell.execute_reply": "2022-02-05T07:57:53.040934Z",
     "shell.execute_reply.started": "2022-02-05T06:57:00.052043Z"
    },
    "papermill": {
     "duration": 0.118721,
     "end_time": "2022-02-05T07:57:53.041134",
     "exception": false,
     "start_time": "2022-02-05T07:57:52.922413",
     "status": "completed"
    },
    "tags": []
   },
   "outputs": [
    {
     "data": {
      "text/html": [
       "<div>\n",
       "<style scoped>\n",
       "    .dataframe tbody tr th:only-of-type {\n",
       "        vertical-align: middle;\n",
       "    }\n",
       "\n",
       "    .dataframe tbody tr th {\n",
       "        vertical-align: top;\n",
       "    }\n",
       "\n",
       "    .dataframe thead th {\n",
       "        text-align: right;\n",
       "    }\n",
       "</style>\n",
       "<table border=\"1\" class=\"dataframe\">\n",
       "  <thead>\n",
       "    <tr style=\"text-align: right;\">\n",
       "      <th></th>\n",
       "      <th>A1_Score</th>\n",
       "      <th>A2_Score</th>\n",
       "      <th>A3_Score</th>\n",
       "      <th>A4_Score</th>\n",
       "      <th>A5_Score</th>\n",
       "      <th>A6_Score</th>\n",
       "      <th>A7_Score</th>\n",
       "      <th>A8_Score</th>\n",
       "      <th>A9_Score</th>\n",
       "      <th>A10_Score</th>\n",
       "      <th>...</th>\n",
       "      <th>India</th>\n",
       "      <th>Jordan</th>\n",
       "      <th>Netherlands</th>\n",
       "      <th>Others</th>\n",
       "      <th>'Health care professional'</th>\n",
       "      <th>Caregiver</th>\n",
       "      <th>Others</th>\n",
       "      <th>Parent</th>\n",
       "      <th>Relative</th>\n",
       "      <th>Self</th>\n",
       "    </tr>\n",
       "  </thead>\n",
       "  <tbody>\n",
       "    <tr>\n",
       "      <th>133</th>\n",
       "      <td>1.0</td>\n",
       "      <td>0.0</td>\n",
       "      <td>1.0</td>\n",
       "      <td>1.0</td>\n",
       "      <td>0.0</td>\n",
       "      <td>0.0</td>\n",
       "      <td>0.0</td>\n",
       "      <td>1.0</td>\n",
       "      <td>0.0</td>\n",
       "      <td>1.0</td>\n",
       "      <td>...</td>\n",
       "      <td>1.0</td>\n",
       "      <td>0.0</td>\n",
       "      <td>0.0</td>\n",
       "      <td>0.0</td>\n",
       "      <td>0.0</td>\n",
       "      <td>0.0</td>\n",
       "      <td>0.0</td>\n",
       "      <td>0.0</td>\n",
       "      <td>0.0</td>\n",
       "      <td>1.0</td>\n",
       "    </tr>\n",
       "    <tr>\n",
       "      <th>615</th>\n",
       "      <td>1.0</td>\n",
       "      <td>0.0</td>\n",
       "      <td>1.0</td>\n",
       "      <td>1.0</td>\n",
       "      <td>0.0</td>\n",
       "      <td>1.0</td>\n",
       "      <td>0.0</td>\n",
       "      <td>1.0</td>\n",
       "      <td>0.0</td>\n",
       "      <td>1.0</td>\n",
       "      <td>...</td>\n",
       "      <td>1.0</td>\n",
       "      <td>0.0</td>\n",
       "      <td>0.0</td>\n",
       "      <td>0.0</td>\n",
       "      <td>0.0</td>\n",
       "      <td>0.0</td>\n",
       "      <td>0.0</td>\n",
       "      <td>0.0</td>\n",
       "      <td>0.0</td>\n",
       "      <td>1.0</td>\n",
       "    </tr>\n",
       "    <tr>\n",
       "      <th>591</th>\n",
       "      <td>0.0</td>\n",
       "      <td>1.0</td>\n",
       "      <td>1.0</td>\n",
       "      <td>1.0</td>\n",
       "      <td>1.0</td>\n",
       "      <td>0.0</td>\n",
       "      <td>1.0</td>\n",
       "      <td>0.0</td>\n",
       "      <td>1.0</td>\n",
       "      <td>0.0</td>\n",
       "      <td>...</td>\n",
       "      <td>0.0</td>\n",
       "      <td>0.0</td>\n",
       "      <td>0.0</td>\n",
       "      <td>0.0</td>\n",
       "      <td>0.0</td>\n",
       "      <td>0.0</td>\n",
       "      <td>0.0</td>\n",
       "      <td>0.0</td>\n",
       "      <td>0.0</td>\n",
       "      <td>1.0</td>\n",
       "    </tr>\n",
       "    <tr>\n",
       "      <th>250</th>\n",
       "      <td>1.0</td>\n",
       "      <td>0.0</td>\n",
       "      <td>0.0</td>\n",
       "      <td>0.0</td>\n",
       "      <td>0.0</td>\n",
       "      <td>0.0</td>\n",
       "      <td>1.0</td>\n",
       "      <td>1.0</td>\n",
       "      <td>0.0</td>\n",
       "      <td>0.0</td>\n",
       "      <td>...</td>\n",
       "      <td>0.0</td>\n",
       "      <td>0.0</td>\n",
       "      <td>0.0</td>\n",
       "      <td>0.0</td>\n",
       "      <td>0.0</td>\n",
       "      <td>0.0</td>\n",
       "      <td>0.0</td>\n",
       "      <td>0.0</td>\n",
       "      <td>0.0</td>\n",
       "      <td>1.0</td>\n",
       "    </tr>\n",
       "    <tr>\n",
       "      <th>517</th>\n",
       "      <td>1.0</td>\n",
       "      <td>0.0</td>\n",
       "      <td>1.0</td>\n",
       "      <td>1.0</td>\n",
       "      <td>1.0</td>\n",
       "      <td>0.0</td>\n",
       "      <td>1.0</td>\n",
       "      <td>0.0</td>\n",
       "      <td>1.0</td>\n",
       "      <td>1.0</td>\n",
       "      <td>...</td>\n",
       "      <td>0.0</td>\n",
       "      <td>0.0</td>\n",
       "      <td>0.0</td>\n",
       "      <td>1.0</td>\n",
       "      <td>0.0</td>\n",
       "      <td>0.0</td>\n",
       "      <td>0.0</td>\n",
       "      <td>0.0</td>\n",
       "      <td>0.0</td>\n",
       "      <td>1.0</td>\n",
       "    </tr>\n",
       "  </tbody>\n",
       "</table>\n",
       "<p>5 rows × 43 columns</p>\n",
       "</div>"
      ],
      "text/plain": [
       "     A1_Score  A2_Score  A3_Score  A4_Score  A5_Score  A6_Score  A7_Score  \\\n",
       "133       1.0       0.0       1.0       1.0       0.0       0.0       0.0   \n",
       "615       1.0       0.0       1.0       1.0       0.0       1.0       0.0   \n",
       "591       0.0       1.0       1.0       1.0       1.0       0.0       1.0   \n",
       "250       1.0       0.0       0.0       0.0       0.0       0.0       1.0   \n",
       "517       1.0       0.0       1.0       1.0       1.0       0.0       1.0   \n",
       "\n",
       "     A8_Score  A9_Score  A10_Score  ...  India  Jordan  Netherlands  Others  \\\n",
       "133       1.0       0.0        1.0  ...    1.0     0.0          0.0     0.0   \n",
       "615       1.0       0.0        1.0  ...    1.0     0.0          0.0     0.0   \n",
       "591       0.0       1.0        0.0  ...    0.0     0.0          0.0     0.0   \n",
       "250       1.0       0.0        0.0  ...    0.0     0.0          0.0     0.0   \n",
       "517       0.0       1.0        1.0  ...    0.0     0.0          0.0     1.0   \n",
       "\n",
       "     'Health care professional'  Caregiver  Others  Parent  Relative  Self  \n",
       "133                         0.0        0.0     0.0     0.0       0.0   1.0  \n",
       "615                         0.0        0.0     0.0     0.0       0.0   1.0  \n",
       "591                         0.0        0.0     0.0     0.0       0.0   1.0  \n",
       "250                         0.0        0.0     0.0     0.0       0.0   1.0  \n",
       "517                         0.0        0.0     0.0     0.0       0.0   1.0  \n",
       "\n",
       "[5 rows x 43 columns]"
      ]
     },
     "execution_count": 37,
     "metadata": {},
     "output_type": "execute_result"
    }
   ],
   "source": [
    "X = Autism.drop(['Class/ASD','result'],axis=1)\n",
    "y = Autism['Class/ASD']\n",
    "from sklearn.model_selection import train_test_split\n",
    "X_train, X_test, y_train, y_test = train_test_split(X,y,train_size=0.6,random_state=True)\n",
    "X_train.head()"
   ]
  },
  {
   "cell_type": "code",
   "execution_count": 38,
   "id": "80821cb7",
   "metadata": {
    "execution": {
     "iopub.execute_input": "2022-02-05T07:57:53.191843Z",
     "iopub.status.busy": "2022-02-05T07:57:53.191135Z",
     "iopub.status.idle": "2022-02-05T07:57:53.251252Z",
     "shell.execute_reply": "2022-02-05T07:57:53.250551Z",
     "shell.execute_reply.started": "2022-02-05T06:57:00.188622Z"
    },
    "papermill": {
     "duration": 0.138768,
     "end_time": "2022-02-05T07:57:53.251431",
     "exception": false,
     "start_time": "2022-02-05T07:57:53.112663",
     "status": "completed"
    },
    "tags": []
   },
   "outputs": [],
   "source": [
    "from sklearn.ensemble import RandomForestClassifier\n",
    "from sklearn.model_selection import GridSearchCV"
   ]
  },
  {
   "cell_type": "code",
   "execution_count": 39,
   "id": "01be5ae5",
   "metadata": {
    "execution": {
     "iopub.execute_input": "2022-02-05T07:57:53.407755Z",
     "iopub.status.busy": "2022-02-05T07:57:53.406707Z",
     "iopub.status.idle": "2022-02-05T07:57:53.409955Z",
     "shell.execute_reply": "2022-02-05T07:57:53.410566Z",
     "shell.execute_reply.started": "2022-02-05T06:57:00.342008Z"
    },
    "papermill": {
     "duration": 0.083395,
     "end_time": "2022-02-05T07:57:53.410748",
     "exception": false,
     "start_time": "2022-02-05T07:57:53.327353",
     "status": "completed"
    },
    "tags": []
   },
   "outputs": [],
   "source": [
    "#Using recall as well as accuracy for scoring. However focussing on the recall models since we are dealing with an important \n",
    "#adverse human condition. "
   ]
  },
  {
   "cell_type": "code",
   "execution_count": 40,
   "id": "06ae1645",
   "metadata": {
    "execution": {
     "iopub.execute_input": "2022-02-05T07:57:53.560606Z",
     "iopub.status.busy": "2022-02-05T07:57:53.559941Z",
     "iopub.status.idle": "2022-02-05T08:07:48.405971Z",
     "shell.execute_reply": "2022-02-05T08:07:48.405066Z",
     "shell.execute_reply.started": "2022-02-05T06:57:00.350641Z"
    },
    "papermill": {
     "duration": 594.92273,
     "end_time": "2022-02-05T08:07:48.406153",
     "exception": false,
     "start_time": "2022-02-05T07:57:53.483423",
     "status": "completed"
    },
    "tags": []
   },
   "outputs": [
    {
     "name": "stdout",
     "output_type": "stream",
     "text": [
      "Fitting 5 folds for each of 546 candidates, totalling 2730 fits\n"
     ]
    },
    {
     "data": {
      "text/plain": [
       "GridSearchCV(estimator=RandomForestClassifier(class_weight='balanced',\n",
       "                                              n_jobs=-1, random_state=100),\n",
       "             n_jobs=-1,\n",
       "             param_grid={'criterion': ['gini'],\n",
       "                         'max_depth': [3, 5, 10, 20, 40, 50],\n",
       "                         'max_features': [0.1, 0.15, 0.2, 0.25, 0.3, 0.35, 0.4,\n",
       "                                          0.45, 0.5, 0.55, 0.6, 0.65, 0.7],\n",
       "                         'min_samples_leaf': [2, 5, 10, 15, 30, 40, 50],\n",
       "                         'n_estimators': [200]},\n",
       "             scoring='recall', verbose=1)"
      ]
     },
     "execution_count": 40,
     "metadata": {},
     "output_type": "execute_result"
    }
   ],
   "source": [
    "Model = RandomForestClassifier(random_state=100,n_jobs=-1,class_weight='balanced')\n",
    "\n",
    "params = {'n_estimators':[200],\n",
    "          'min_samples_leaf':[2,5,10,15,30,40,50],\n",
    "          'max_depth':[3,5,10,20,40,50],\n",
    "          'max_features':[0.1,0.15,0.2,0.25,0.3,0.35,0.4,0.45,0.5,0.55,0.6,0.65,0.7],\n",
    "          'criterion':[\"gini\"]}\n",
    "\n",
    "grid_search = GridSearchCV(estimator=Model,param_grid=params,verbose=1,n_jobs=-1,scoring='recall')\n",
    "grid_search.fit(X_train,y_train)"
   ]
  },
  {
   "cell_type": "code",
   "execution_count": 41,
   "id": "dccdfcab",
   "metadata": {
    "execution": {
     "iopub.execute_input": "2022-02-05T08:07:48.562831Z",
     "iopub.status.busy": "2022-02-05T08:07:48.562000Z",
     "iopub.status.idle": "2022-02-05T08:07:48.564665Z",
     "shell.execute_reply": "2022-02-05T08:07:48.565202Z",
     "shell.execute_reply.started": "2022-02-05T07:21:39.472037Z"
    },
    "papermill": {
     "duration": 0.084235,
     "end_time": "2022-02-05T08:07:48.565410",
     "exception": false,
     "start_time": "2022-02-05T08:07:48.481175",
     "status": "completed"
    },
    "tags": []
   },
   "outputs": [],
   "source": [
    "Model_best = grid_search.best_estimator_"
   ]
  },
  {
   "cell_type": "code",
   "execution_count": 42,
   "id": "380ffef9",
   "metadata": {
    "execution": {
     "iopub.execute_input": "2022-02-05T08:07:48.726626Z",
     "iopub.status.busy": "2022-02-05T08:07:48.725857Z",
     "iopub.status.idle": "2022-02-05T08:07:49.171169Z",
     "shell.execute_reply": "2022-02-05T08:07:49.170477Z",
     "shell.execute_reply.started": "2022-02-05T07:21:39.501839Z"
    },
    "papermill": {
     "duration": 0.528998,
     "end_time": "2022-02-05T08:07:49.171389",
     "exception": false,
     "start_time": "2022-02-05T08:07:48.642391",
     "status": "completed"
    },
    "tags": []
   },
   "outputs": [
    {
     "name": "stdout",
     "output_type": "stream",
     "text": [
      "0.9360189573459715\n",
      "0.9734513274336283\n"
     ]
    },
    {
     "data": {
      "image/png": "[encoded data removed]",
      "text/plain": [
       "<Figure size 432x288 with 1 Axes>"
      ]
     },
     "metadata": {
      "needs_background": "light"
     },
     "output_type": "display_data"
    }
   ],
   "source": [
    "from sklearn.metrics import plot_roc_curve, accuracy_score, recall_score\n",
    "plot_roc_curve(Model_best,X_train,y_train)\n",
    "y_train_pred = Model_best.predict(X_train)\n",
    "\n",
    "print(accuracy_score(y_train,y_train_pred))\n",
    "print(recall_score(y_train,y_train_pred))"
   ]
  },
  {
   "cell_type": "code",
   "execution_count": 43,
   "id": "d03bcd17",
   "metadata": {
    "execution": {
     "iopub.execute_input": "2022-02-05T08:07:49.334871Z",
     "iopub.status.busy": "2022-02-05T08:07:49.333685Z",
     "iopub.status.idle": "2022-02-05T08:07:49.774982Z",
     "shell.execute_reply": "2022-02-05T08:07:49.774305Z",
     "shell.execute_reply.started": "2022-02-05T07:21:40.589429Z"
    },
    "papermill": {
     "duration": 0.527542,
     "end_time": "2022-02-05T08:07:49.775140",
     "exception": false,
     "start_time": "2022-02-05T08:07:49.247598",
     "status": "completed"
    },
    "tags": []
   },
   "outputs": [
    {
     "name": "stdout",
     "output_type": "stream",
     "text": [
      "0.925531914893617\n",
      "0.8947368421052632\n"
     ]
    },
    {
     "data": {
      "image/png": "[encoded data removed]",
      "text/plain": [
       "<Figure size 432x288 with 1 Axes>"
      ]
     },
     "metadata": {
      "needs_background": "light"
     },
     "output_type": "display_data"
    }
   ],
   "source": [
    "plot_roc_curve(Model_best,X_test,y_test)\n",
    "y_test_pred = Model_best.predict(X_test)\n",
    "\n",
    "print(accuracy_score(y_test,y_test_pred))\n",
    "print(recall_score(y_test,y_test_pred))"
   ]
  },
  {
   "cell_type": "code",
   "execution_count": 44,
   "id": "12089143",
   "metadata": {
    "execution": {
     "iopub.execute_input": "2022-02-05T08:07:49.937843Z",
     "iopub.status.busy": "2022-02-05T08:07:49.937168Z",
     "iopub.status.idle": "2022-02-05T08:07:50.053370Z",
     "shell.execute_reply": "2022-02-05T08:07:50.052771Z",
     "shell.execute_reply.started": "2022-02-05T07:21:41.489137Z"
    },
    "papermill": {
     "duration": 0.20079,
     "end_time": "2022-02-05T08:07:50.053516",
     "exception": false,
     "start_time": "2022-02-05T08:07:49.852726",
     "status": "completed"
    },
    "scrolled": true,
    "tags": []
   },
   "outputs": [
    {
     "data": {
      "text/html": [
       "<div>\n",
       "<style scoped>\n",
       "    .dataframe tbody tr th:only-of-type {\n",
       "        vertical-align: middle;\n",
       "    }\n",
       "\n",
       "    .dataframe tbody tr th {\n",
       "        vertical-align: top;\n",
       "    }\n",
       "\n",
       "    .dataframe thead th {\n",
       "        text-align: right;\n",
       "    }\n",
       "</style>\n",
       "<table border=\"1\" class=\"dataframe\">\n",
       "  <thead>\n",
       "    <tr style=\"text-align: right;\">\n",
       "      <th></th>\n",
       "      <th>Importance</th>\n",
       "    </tr>\n",
       "    <tr>\n",
       "      <th>Feature</th>\n",
       "      <th></th>\n",
       "    </tr>\n",
       "  </thead>\n",
       "  <tbody>\n",
       "    <tr>\n",
       "      <th>A9_Score</th>\n",
       "      <td>0.206577</td>\n",
       "    </tr>\n",
       "    <tr>\n",
       "      <th>A5_Score</th>\n",
       "      <td>0.159253</td>\n",
       "    </tr>\n",
       "    <tr>\n",
       "      <th>A4_Score</th>\n",
       "      <td>0.135674</td>\n",
       "    </tr>\n",
       "    <tr>\n",
       "      <th>A6_Score</th>\n",
       "      <td>0.117753</td>\n",
       "    </tr>\n",
       "    <tr>\n",
       "      <th>A3_Score</th>\n",
       "      <td>0.079832</td>\n",
       "    </tr>\n",
       "  </tbody>\n",
       "</table>\n",
       "</div>"
      ],
      "text/plain": [
       "          Importance\n",
       "Feature             \n",
       "A9_Score    0.206577\n",
       "A5_Score    0.159253\n",
       "A4_Score    0.135674\n",
       "A6_Score    0.117753\n",
       "A3_Score    0.079832"
      ]
     },
     "execution_count": 44,
     "metadata": {},
     "output_type": "execute_result"
    }
   ],
   "source": [
    "Feature_importance = pd.DataFrame({'Feature':X_train.columns,'Importance':Model_best.feature_importances_})\n",
    "Feature_importance = Feature_importance.sort_values(by='Importance',ascending=False)\n",
    "Feature_importance = Feature_importance.set_index('Feature')\n",
    "Feature_importance.head()"
   ]
  },
  {
   "cell_type": "code",
   "execution_count": 45,
   "id": "3043b343",
   "metadata": {
    "execution": {
     "iopub.execute_input": "2022-02-05T08:07:50.237619Z",
     "iopub.status.busy": "2022-02-05T08:07:50.236435Z",
     "iopub.status.idle": "2022-02-05T08:07:50.870294Z",
     "shell.execute_reply": "2022-02-05T08:07:50.870813Z",
     "shell.execute_reply.started": "2022-02-05T07:21:41.626463Z"
    },
    "papermill": {
     "duration": 0.736816,
     "end_time": "2022-02-05T08:07:50.871017",
     "exception": false,
     "start_time": "2022-02-05T08:07:50.134201",
     "status": "completed"
    },
    "tags": []
   },
   "outputs": [
    {
     "data": {
      "image/png": "[encoded data removed]",
      "text/plain": [
       "<Figure size 720x720 with 1 Axes>"
      ]
     },
     "metadata": {
      "needs_background": "light"
     },
     "output_type": "display_data"
    }
   ],
   "source": [
    "plt.figure(figsize=(10,10))\n",
    "sns.barplot(x='Importance',y=Feature_importance.index,data=Feature_importance)\n",
    "plt.title('Feature vs Importance')\n",
    "plt.xlabel('Importance')\n",
    "plt.ylabel('Feature')\n",
    "plt.show()"
   ]
  },
  {
   "cell_type": "code",
   "execution_count": 46,
   "id": "77e2e875",
   "metadata": {
    "execution": {
     "iopub.execute_input": "2022-02-05T08:07:51.037082Z",
     "iopub.status.busy": "2022-02-05T08:07:51.036146Z",
     "iopub.status.idle": "2022-02-05T08:07:51.039562Z",
     "shell.execute_reply": "2022-02-05T08:07:51.038981Z",
     "shell.execute_reply.started": "2022-02-05T07:21:43.515369Z"
    },
    "papermill": {
     "duration": 0.089068,
     "end_time": "2022-02-05T08:07:51.039726",
     "exception": false,
     "start_time": "2022-02-05T08:07:50.950658",
     "status": "completed"
    },
    "tags": []
   },
   "outputs": [],
   "source": [
    "#As we can see we get prety good accuracy and recall scores using recall as scoring. Now let us try using accuracy as scoring."
   ]
  },
  {
   "cell_type": "code",
   "execution_count": 47,
   "id": "124d3ceb",
   "metadata": {
    "execution": {
     "iopub.execute_input": "2022-02-05T08:07:51.206759Z",
     "iopub.status.busy": "2022-02-05T08:07:51.206031Z",
     "iopub.status.idle": "2022-02-05T08:16:07.178095Z",
     "shell.execute_reply": "2022-02-05T08:16:07.177400Z",
     "shell.execute_reply.started": "2022-02-05T07:21:43.537314Z"
    },
    "papermill": {
     "duration": 496.055849,
     "end_time": "2022-02-05T08:16:07.178262",
     "exception": false,
     "start_time": "2022-02-05T08:07:51.122413",
     "status": "completed"
    },
    "tags": []
   },
   "outputs": [
    {
     "name": "stdout",
     "output_type": "stream",
     "text": [
      "Fitting 5 folds for each of 462 candidates, totalling 2310 fits\n"
     ]
    },
    {
     "data": {
      "text/plain": [
       "GridSearchCV(estimator=RandomForestClassifier(class_weight='balanced',\n",
       "                                              n_jobs=-1, random_state=100),\n",
       "             n_jobs=-1,\n",
       "             param_grid={'criterion': ['gini'],\n",
       "                         'max_depth': [3, 5, 10, 20, 40, 50],\n",
       "                         'max_features': [0.1, 0.15, 0.2, 0.25, 0.3, 0.35, 0.4,\n",
       "                                          0.45, 0.5, 0.55, 0.6],\n",
       "                         'min_samples_leaf': [2, 5, 10, 15, 30, 40, 50],\n",
       "                         'n_estimators': [200]},\n",
       "             scoring='accuracy', verbose=1)"
      ]
     },
     "execution_count": 47,
     "metadata": {},
     "output_type": "execute_result"
    }
   ],
   "source": [
    "Model = RandomForestClassifier(random_state=100,n_jobs=-1,class_weight='balanced')\n",
    "\n",
    "params = {'n_estimators':[200],\n",
    "          'min_samples_leaf':[2,5,10,15,30,40,50],\n",
    "          'max_depth':[3,5,10,20,40,50],\n",
    "          'max_features':[0.1,0.15,0.2,0.25,0.3,0.35,0.4,0.45,0.5,0.55,0.6],\n",
    "          'criterion':[\"gini\"]}\n",
    "\n",
    "grid_search = GridSearchCV(estimator=Model,param_grid=params,verbose=1,n_jobs=-1,scoring='accuracy')\n",
    "grid_search.fit(X_train,y_train)"
   ]
  },
  {
   "cell_type": "code",
   "execution_count": 48,
   "id": "5826a9fc",
   "metadata": {
    "execution": {
     "iopub.execute_input": "2022-02-05T08:16:07.348720Z",
     "iopub.status.busy": "2022-02-05T08:16:07.347725Z",
     "iopub.status.idle": "2022-02-05T08:16:07.350971Z",
     "shell.execute_reply": "2022-02-05T08:16:07.350285Z",
     "shell.execute_reply.started": "2022-02-05T07:39:12.888342Z"
    },
    "papermill": {
     "duration": 0.090724,
     "end_time": "2022-02-05T08:16:07.351139",
     "exception": false,
     "start_time": "2022-02-05T08:16:07.260415",
     "status": "completed"
    },
    "tags": []
   },
   "outputs": [],
   "source": [
    "Model_best = grid_search.best_estimator_"
   ]
  },
  {
   "cell_type": "code",
   "execution_count": 49,
   "id": "4d97b22d",
   "metadata": {
    "execution": {
     "iopub.execute_input": "2022-02-05T08:16:07.523590Z",
     "iopub.status.busy": "2022-02-05T08:16:07.522821Z",
     "iopub.status.idle": "2022-02-05T08:16:07.969615Z",
     "shell.execute_reply": "2022-02-05T08:16:07.970312Z",
     "shell.execute_reply.started": "2022-02-05T07:39:12.896339Z"
    },
    "papermill": {
     "duration": 0.536348,
     "end_time": "2022-02-05T08:16:07.970519",
     "exception": false,
     "start_time": "2022-02-05T08:16:07.434171",
     "status": "completed"
    },
    "tags": []
   },
   "outputs": [
    {
     "name": "stdout",
     "output_type": "stream",
     "text": [
      "0.995260663507109\n",
      "1.0\n"
     ]
    },
    {
     "data": {
      "image/png": "[encoded data removed]",
      "text/plain": [
       "<Figure size 432x288 with 1 Axes>"
      ]
     },
     "metadata": {
      "needs_background": "light"
     },
     "output_type": "display_data"
    }
   ],
   "source": [
    "from sklearn.metrics import plot_roc_curve, accuracy_score, recall_score\n",
    "plot_roc_curve(Model_best,X_train,y_train)\n",
    "y_train_pred = Model_best.predict(X_train)\n",
    "\n",
    "print(accuracy_score(y_train,y_train_pred))\n",
    "print(recall_score(y_train,y_train_pred))"
   ]
  },
  {
   "cell_type": "code",
   "execution_count": 50,
   "id": "9ff1fcda",
   "metadata": {
    "execution": {
     "iopub.execute_input": "2022-02-05T08:16:08.145367Z",
     "iopub.status.busy": "2022-02-05T08:16:08.144602Z",
     "iopub.status.idle": "2022-02-05T08:16:08.588944Z",
     "shell.execute_reply": "2022-02-05T08:16:08.588219Z",
     "shell.execute_reply.started": "2022-02-05T07:39:13.758938Z"
    },
    "papermill": {
     "duration": 0.531608,
     "end_time": "2022-02-05T08:16:08.589109",
     "exception": false,
     "start_time": "2022-02-05T08:16:08.057501",
     "status": "completed"
    },
    "tags": []
   },
   "outputs": [
    {
     "name": "stdout",
     "output_type": "stream",
     "text": [
      "0.9609929078014184\n",
      "0.9210526315789473\n"
     ]
    },
    {
     "data": {
      "image/png": "[encoded data removed]",
      "text/plain": [
       "<Figure size 432x288 with 1 Axes>"
      ]
     },
     "metadata": {
      "needs_background": "light"
     },
     "output_type": "display_data"
    }
   ],
   "source": [
    "plot_roc_curve(Model_best,X_test,y_test)\n",
    "y_test_pred = Model_best.predict(X_test)\n",
    "\n",
    "print(accuracy_score(y_test,y_test_pred))\n",
    "print(recall_score(y_test,y_test_pred))"
   ]
  },
  {
   "cell_type": "code",
   "execution_count": 51,
   "id": "d8d3a0a6",
   "metadata": {
    "execution": {
     "iopub.execute_input": "2022-02-05T08:16:08.768697Z",
     "iopub.status.busy": "2022-02-05T08:16:08.767640Z",
     "iopub.status.idle": "2022-02-05T08:16:08.882978Z",
     "shell.execute_reply": "2022-02-05T08:16:08.883535Z",
     "shell.execute_reply.started": "2022-02-05T07:39:14.994361Z"
    },
    "papermill": {
     "duration": 0.208179,
     "end_time": "2022-02-05T08:16:08.883732",
     "exception": false,
     "start_time": "2022-02-05T08:16:08.675553",
     "status": "completed"
    },
    "tags": []
   },
   "outputs": [
    {
     "data": {
      "text/html": [
       "<div>\n",
       "<style scoped>\n",
       "    .dataframe tbody tr th:only-of-type {\n",
       "        vertical-align: middle;\n",
       "    }\n",
       "\n",
       "    .dataframe tbody tr th {\n",
       "        vertical-align: top;\n",
       "    }\n",
       "\n",
       "    .dataframe thead th {\n",
       "        text-align: right;\n",
       "    }\n",
       "</style>\n",
       "<table border=\"1\" class=\"dataframe\">\n",
       "  <thead>\n",
       "    <tr style=\"text-align: right;\">\n",
       "      <th></th>\n",
       "      <th>Importance</th>\n",
       "    </tr>\n",
       "    <tr>\n",
       "      <th>Feature</th>\n",
       "      <th></th>\n",
       "    </tr>\n",
       "  </thead>\n",
       "  <tbody>\n",
       "    <tr>\n",
       "      <th>A9_Score</th>\n",
       "      <td>0.217280</td>\n",
       "    </tr>\n",
       "    <tr>\n",
       "      <th>A5_Score</th>\n",
       "      <td>0.147078</td>\n",
       "    </tr>\n",
       "    <tr>\n",
       "      <th>A6_Score</th>\n",
       "      <td>0.117689</td>\n",
       "    </tr>\n",
       "    <tr>\n",
       "      <th>A4_Score</th>\n",
       "      <td>0.086354</td>\n",
       "    </tr>\n",
       "    <tr>\n",
       "      <th>A3_Score</th>\n",
       "      <td>0.061562</td>\n",
       "    </tr>\n",
       "  </tbody>\n",
       "</table>\n",
       "</div>"
      ],
      "text/plain": [
       "          Importance\n",
       "Feature             \n",
       "A9_Score    0.217280\n",
       "A5_Score    0.147078\n",
       "A6_Score    0.117689\n",
       "A4_Score    0.086354\n",
       "A3_Score    0.061562"
      ]
     },
     "execution_count": 51,
     "metadata": {},
     "output_type": "execute_result"
    }
   ],
   "source": [
    "Feature_importance = pd.DataFrame({'Feature':X_train.columns,'Importance':Model_best.feature_importances_})\n",
    "Feature_importance = Feature_importance.sort_values(by='Importance',ascending=False)\n",
    "Feature_importance = Feature_importance.set_index('Feature')\n",
    "Feature_importance.head()"
   ]
  },
  {
   "cell_type": "code",
   "execution_count": 52,
   "id": "eee79df7",
   "metadata": {
    "execution": {
     "iopub.execute_input": "2022-02-05T08:16:09.081065Z",
     "iopub.status.busy": "2022-02-05T08:16:09.080381Z",
     "iopub.status.idle": "2022-02-05T08:16:09.964593Z",
     "shell.execute_reply": "2022-02-05T08:16:09.965081Z",
     "shell.execute_reply.started": "2022-02-05T07:39:15.130130Z"
    },
    "papermill": {
     "duration": 0.994995,
     "end_time": "2022-02-05T08:16:09.965272",
     "exception": false,
     "start_time": "2022-02-05T08:16:08.970277",
     "status": "completed"
    },
    "tags": []
   },
   "outputs": [
    {
     "data": {
      "image/png": "[encoded data removed]",
      "text/plain": [
       "<Figure size 720x720 with 1 Axes>"
      ]
     },
     "metadata": {
      "needs_background": "light"
     },
     "output_type": "display_data"
    }
   ],
   "source": [
    "plt.figure(figsize=(10,10))\n",
    "sns.barplot(x='Importance',y=Feature_importance.index,data=Feature_importance)\n",
    "plt.title('Feature vs Importance')\n",
    "plt.xlabel('Importance')\n",
    "plt.ylabel('Feature')\n",
    "plt.show()"
   ]
  },
  {
   "cell_type": "code",
   "execution_count": 53,
   "id": "56d5a2b7",
   "metadata": {
    "execution": {
     "iopub.execute_input": "2022-02-05T08:16:10.143635Z",
     "iopub.status.busy": "2022-02-05T08:16:10.142726Z",
     "iopub.status.idle": "2022-02-05T08:16:10.146019Z",
     "shell.execute_reply": "2022-02-05T08:16:10.145443Z",
     "shell.execute_reply.started": "2022-02-05T07:39:16.427616Z"
    },
    "papermill": {
     "duration": 0.09453,
     "end_time": "2022-02-05T08:16:10.146165",
     "exception": false,
     "start_time": "2022-02-05T08:16:10.051635",
     "status": "completed"
    },
    "tags": []
   },
   "outputs": [],
   "source": [
    "#As we can see we here from the feature importance there is a larger number of features that actually contribute to the predict \n",
    "#the target variable. "
   ]
  },
  {
   "cell_type": "code",
   "execution_count": 54,
   "id": "4955ef6c",
   "metadata": {
    "execution": {
     "iopub.execute_input": "2022-02-05T08:16:10.323039Z",
     "iopub.status.busy": "2022-02-05T08:16:10.322116Z",
     "iopub.status.idle": "2022-02-05T08:16:10.325470Z",
     "shell.execute_reply": "2022-02-05T08:16:10.324813Z",
     "shell.execute_reply.started": "2022-02-05T07:39:16.441373Z"
    },
    "papermill": {
     "duration": 0.093536,
     "end_time": "2022-02-05T08:16:10.325603",
     "exception": false,
     "start_time": "2022-02-05T08:16:10.232067",
     "status": "completed"
    },
    "tags": []
   },
   "outputs": [],
   "source": [
    "#We will now try SVMs. We will build models using both recal and accuracy scoring. "
   ]
  },
  {
   "cell_type": "code",
   "execution_count": 55,
   "id": "645f8a0c",
   "metadata": {
    "execution": {
     "iopub.execute_input": "2022-02-05T08:16:10.505444Z",
     "iopub.status.busy": "2022-02-05T08:16:10.504740Z",
     "iopub.status.idle": "2022-02-05T08:16:10.508338Z",
     "shell.execute_reply": "2022-02-05T08:16:10.507677Z",
     "shell.execute_reply.started": "2022-02-05T07:39:16.472542Z"
    },
    "papermill": {
     "duration": 0.097125,
     "end_time": "2022-02-05T08:16:10.508516",
     "exception": false,
     "start_time": "2022-02-05T08:16:10.411391",
     "status": "completed"
    },
    "tags": []
   },
   "outputs": [],
   "source": [
    "from sklearn.svm import SVC"
   ]
  },
  {
   "cell_type": "code",
   "execution_count": 56,
   "id": "590838dd",
   "metadata": {
    "execution": {
     "iopub.execute_input": "2022-02-05T08:16:10.712135Z",
     "iopub.status.busy": "2022-02-05T08:16:10.711078Z",
     "iopub.status.idle": "2022-02-05T08:16:10.738230Z",
     "shell.execute_reply": "2022-02-05T08:16:10.737519Z",
     "shell.execute_reply.started": "2022-02-05T07:39:16.508386Z"
    },
    "papermill": {
     "duration": 0.133582,
     "end_time": "2022-02-05T08:16:10.738396",
     "exception": false,
     "start_time": "2022-02-05T08:16:10.604814",
     "status": "completed"
    },
    "tags": []
   },
   "outputs": [
    {
     "data": {
      "text/html": [
       "<div>\n",
       "<style scoped>\n",
       "    .dataframe tbody tr th:only-of-type {\n",
       "        vertical-align: middle;\n",
       "    }\n",
       "\n",
       "    .dataframe tbody tr th {\n",
       "        vertical-align: top;\n",
       "    }\n",
       "\n",
       "    .dataframe thead th {\n",
       "        text-align: right;\n",
       "    }\n",
       "</style>\n",
       "<table border=\"1\" class=\"dataframe\">\n",
       "  <thead>\n",
       "    <tr style=\"text-align: right;\">\n",
       "      <th></th>\n",
       "      <th>A1_Score</th>\n",
       "      <th>A2_Score</th>\n",
       "      <th>A3_Score</th>\n",
       "      <th>A4_Score</th>\n",
       "      <th>A5_Score</th>\n",
       "      <th>A6_Score</th>\n",
       "      <th>A7_Score</th>\n",
       "      <th>A8_Score</th>\n",
       "      <th>A9_Score</th>\n",
       "      <th>A10_Score</th>\n",
       "      <th>...</th>\n",
       "      <th>India</th>\n",
       "      <th>Jordan</th>\n",
       "      <th>Netherlands</th>\n",
       "      <th>Others</th>\n",
       "      <th>'Health care professional'</th>\n",
       "      <th>Caregiver</th>\n",
       "      <th>Others</th>\n",
       "      <th>Parent</th>\n",
       "      <th>Relative</th>\n",
       "      <th>Self</th>\n",
       "    </tr>\n",
       "  </thead>\n",
       "  <tbody>\n",
       "    <tr>\n",
       "      <th>0</th>\n",
       "      <td>0.62115</td>\n",
       "      <td>1.098588</td>\n",
       "      <td>1.089190</td>\n",
       "      <td>1.008559</td>\n",
       "      <td>-0.997163</td>\n",
       "      <td>-0.629941</td>\n",
       "      <td>1.180914</td>\n",
       "      <td>0.735174</td>\n",
       "      <td>-0.692092</td>\n",
       "      <td>-1.160460</td>\n",
       "      <td>...</td>\n",
       "      <td>-0.360577</td>\n",
       "      <td>-0.267465</td>\n",
       "      <td>-0.120038</td>\n",
       "      <td>-0.482623</td>\n",
       "      <td>-0.075593</td>\n",
       "      <td>-0.394960</td>\n",
       "      <td>-0.084576</td>\n",
       "      <td>-0.276501</td>\n",
       "      <td>-0.203519</td>\n",
       "      <td>0.590474</td>\n",
       "    </tr>\n",
       "    <tr>\n",
       "      <th>1</th>\n",
       "      <td>0.62115</td>\n",
       "      <td>1.098588</td>\n",
       "      <td>-0.918113</td>\n",
       "      <td>1.008559</td>\n",
       "      <td>-0.997163</td>\n",
       "      <td>-0.629941</td>\n",
       "      <td>-0.846802</td>\n",
       "      <td>0.735174</td>\n",
       "      <td>-0.692092</td>\n",
       "      <td>0.861727</td>\n",
       "      <td>...</td>\n",
       "      <td>-0.360577</td>\n",
       "      <td>-0.267465</td>\n",
       "      <td>-0.120038</td>\n",
       "      <td>2.072012</td>\n",
       "      <td>-0.075593</td>\n",
       "      <td>-0.394960</td>\n",
       "      <td>-0.084576</td>\n",
       "      <td>-0.276501</td>\n",
       "      <td>-0.203519</td>\n",
       "      <td>0.590474</td>\n",
       "    </tr>\n",
       "    <tr>\n",
       "      <th>2</th>\n",
       "      <td>0.62115</td>\n",
       "      <td>1.098588</td>\n",
       "      <td>-0.918113</td>\n",
       "      <td>1.008559</td>\n",
       "      <td>1.002845</td>\n",
       "      <td>-0.629941</td>\n",
       "      <td>1.180914</td>\n",
       "      <td>0.735174</td>\n",
       "      <td>1.444894</td>\n",
       "      <td>0.861727</td>\n",
       "      <td>...</td>\n",
       "      <td>-0.360577</td>\n",
       "      <td>-0.267465</td>\n",
       "      <td>-0.120038</td>\n",
       "      <td>2.072012</td>\n",
       "      <td>-0.075593</td>\n",
       "      <td>-0.394960</td>\n",
       "      <td>-0.084576</td>\n",
       "      <td>3.616628</td>\n",
       "      <td>-0.203519</td>\n",
       "      <td>-1.693556</td>\n",
       "    </tr>\n",
       "    <tr>\n",
       "      <th>3</th>\n",
       "      <td>0.62115</td>\n",
       "      <td>1.098588</td>\n",
       "      <td>-0.918113</td>\n",
       "      <td>1.008559</td>\n",
       "      <td>-0.997163</td>\n",
       "      <td>-0.629941</td>\n",
       "      <td>1.180914</td>\n",
       "      <td>0.735174</td>\n",
       "      <td>-0.692092</td>\n",
       "      <td>0.861727</td>\n",
       "      <td>...</td>\n",
       "      <td>-0.360577</td>\n",
       "      <td>-0.267465</td>\n",
       "      <td>-0.120038</td>\n",
       "      <td>-0.482623</td>\n",
       "      <td>-0.075593</td>\n",
       "      <td>-0.394960</td>\n",
       "      <td>-0.084576</td>\n",
       "      <td>-0.276501</td>\n",
       "      <td>-0.203519</td>\n",
       "      <td>0.590474</td>\n",
       "    </tr>\n",
       "    <tr>\n",
       "      <th>4</th>\n",
       "      <td>0.62115</td>\n",
       "      <td>-0.910259</td>\n",
       "      <td>-0.918113</td>\n",
       "      <td>-0.991513</td>\n",
       "      <td>-0.997163</td>\n",
       "      <td>-0.629941</td>\n",
       "      <td>-0.846802</td>\n",
       "      <td>0.735174</td>\n",
       "      <td>-0.692092</td>\n",
       "      <td>-1.160460</td>\n",
       "      <td>...</td>\n",
       "      <td>-0.360577</td>\n",
       "      <td>-0.267465</td>\n",
       "      <td>-0.120038</td>\n",
       "      <td>2.072012</td>\n",
       "      <td>-0.075593</td>\n",
       "      <td>2.531902</td>\n",
       "      <td>-0.084576</td>\n",
       "      <td>-0.276501</td>\n",
       "      <td>-0.203519</td>\n",
       "      <td>-1.693556</td>\n",
       "    </tr>\n",
       "  </tbody>\n",
       "</table>\n",
       "<p>5 rows × 43 columns</p>\n",
       "</div>"
      ],
      "text/plain": [
       "   A1_Score  A2_Score  A3_Score  A4_Score  A5_Score  A6_Score  A7_Score  \\\n",
       "0   0.62115  1.098588  1.089190  1.008559 -0.997163 -0.629941  1.180914   \n",
       "1   0.62115  1.098588 -0.918113  1.008559 -0.997163 -0.629941 -0.846802   \n",
       "2   0.62115  1.098588 -0.918113  1.008559  1.002845 -0.629941  1.180914   \n",
       "3   0.62115  1.098588 -0.918113  1.008559 -0.997163 -0.629941  1.180914   \n",
       "4   0.62115 -0.910259 -0.918113 -0.991513 -0.997163 -0.629941 -0.846802   \n",
       "\n",
       "   A8_Score  A9_Score  A10_Score  ...     India    Jordan  Netherlands  \\\n",
       "0  0.735174 -0.692092  -1.160460  ... -0.360577 -0.267465    -0.120038   \n",
       "1  0.735174 -0.692092   0.861727  ... -0.360577 -0.267465    -0.120038   \n",
       "2  0.735174  1.444894   0.861727  ... -0.360577 -0.267465    -0.120038   \n",
       "3  0.735174 -0.692092   0.861727  ... -0.360577 -0.267465    -0.120038   \n",
       "4  0.735174 -0.692092  -1.160460  ... -0.360577 -0.267465    -0.120038   \n",
       "\n",
       "     Others  'Health care professional'  Caregiver    Others    Parent  \\\n",
       "0 -0.482623                   -0.075593  -0.394960 -0.084576 -0.276501   \n",
       "1  2.072012                   -0.075593  -0.394960 -0.084576 -0.276501   \n",
       "2  2.072012                   -0.075593  -0.394960 -0.084576  3.616628   \n",
       "3 -0.482623                   -0.075593  -0.394960 -0.084576 -0.276501   \n",
       "4  2.072012                   -0.075593   2.531902 -0.084576 -0.276501   \n",
       "\n",
       "   Relative      Self  \n",
       "0 -0.203519  0.590474  \n",
       "1 -0.203519  0.590474  \n",
       "2 -0.203519 -1.693556  \n",
       "3 -0.203519  0.590474  \n",
       "4 -0.203519 -1.693556  \n",
       "\n",
       "[5 rows x 43 columns]"
      ]
     },
     "execution_count": 56,
     "metadata": {},
     "output_type": "execute_result"
    }
   ],
   "source": [
    "col = X.columns\n",
    "from sklearn.preprocessing import StandardScaler\n",
    "scaler = StandardScaler()\n",
    "X_scaled = scaler.fit_transform(X)\n",
    "X_scaled = pd.DataFrame(X_scaled,columns=col)\n",
    "X_scaled.head()"
   ]
  },
  {
   "cell_type": "code",
   "execution_count": 57,
   "id": "869bfcf6",
   "metadata": {
    "execution": {
     "iopub.execute_input": "2022-02-05T08:16:10.945997Z",
     "iopub.status.busy": "2022-02-05T08:16:10.945184Z",
     "iopub.status.idle": "2022-02-05T08:16:10.948536Z",
     "shell.execute_reply": "2022-02-05T08:16:10.949075Z",
     "shell.execute_reply.started": "2022-02-05T07:39:16.582301Z"
    },
    "papermill": {
     "duration": 0.122234,
     "end_time": "2022-02-05T08:16:10.949269",
     "exception": false,
     "start_time": "2022-02-05T08:16:10.827035",
     "status": "completed"
    },
    "tags": []
   },
   "outputs": [
    {
     "data": {
      "text/html": [
       "<div>\n",
       "<style scoped>\n",
       "    .dataframe tbody tr th:only-of-type {\n",
       "        vertical-align: middle;\n",
       "    }\n",
       "\n",
       "    .dataframe tbody tr th {\n",
       "        vertical-align: top;\n",
       "    }\n",
       "\n",
       "    .dataframe thead th {\n",
       "        text-align: right;\n",
       "    }\n",
       "</style>\n",
       "<table border=\"1\" class=\"dataframe\">\n",
       "  <thead>\n",
       "    <tr style=\"text-align: right;\">\n",
       "      <th></th>\n",
       "      <th>A1_Score</th>\n",
       "      <th>A2_Score</th>\n",
       "      <th>A3_Score</th>\n",
       "      <th>A4_Score</th>\n",
       "      <th>A5_Score</th>\n",
       "      <th>A6_Score</th>\n",
       "      <th>A7_Score</th>\n",
       "      <th>A8_Score</th>\n",
       "      <th>A9_Score</th>\n",
       "      <th>A10_Score</th>\n",
       "      <th>...</th>\n",
       "      <th>India</th>\n",
       "      <th>Jordan</th>\n",
       "      <th>Netherlands</th>\n",
       "      <th>Others</th>\n",
       "      <th>'Health care professional'</th>\n",
       "      <th>Caregiver</th>\n",
       "      <th>Others</th>\n",
       "      <th>Parent</th>\n",
       "      <th>Relative</th>\n",
       "      <th>Self</th>\n",
       "    </tr>\n",
       "  </thead>\n",
       "  <tbody>\n",
       "    <tr>\n",
       "      <th>345</th>\n",
       "      <td>0.62115</td>\n",
       "      <td>-0.910259</td>\n",
       "      <td>-0.918113</td>\n",
       "      <td>-0.991513</td>\n",
       "      <td>-0.997163</td>\n",
       "      <td>-0.629941</td>\n",
       "      <td>-0.846802</td>\n",
       "      <td>-1.360221</td>\n",
       "      <td>-0.692092</td>\n",
       "      <td>-1.160460</td>\n",
       "      <td>...</td>\n",
       "      <td>-0.360577</td>\n",
       "      <td>3.738813</td>\n",
       "      <td>-0.120038</td>\n",
       "      <td>-0.482623</td>\n",
       "      <td>-0.075593</td>\n",
       "      <td>2.531902</td>\n",
       "      <td>-0.084576</td>\n",
       "      <td>-0.276501</td>\n",
       "      <td>-0.203519</td>\n",
       "      <td>-1.693556</td>\n",
       "    </tr>\n",
       "    <tr>\n",
       "      <th>96</th>\n",
       "      <td>0.62115</td>\n",
       "      <td>-0.910259</td>\n",
       "      <td>-0.918113</td>\n",
       "      <td>-0.991513</td>\n",
       "      <td>1.002845</td>\n",
       "      <td>-0.629941</td>\n",
       "      <td>1.180914</td>\n",
       "      <td>0.735174</td>\n",
       "      <td>-0.692092</td>\n",
       "      <td>-1.160460</td>\n",
       "      <td>...</td>\n",
       "      <td>-0.360577</td>\n",
       "      <td>-0.267465</td>\n",
       "      <td>-0.120038</td>\n",
       "      <td>-0.482623</td>\n",
       "      <td>-0.075593</td>\n",
       "      <td>-0.394960</td>\n",
       "      <td>-0.084576</td>\n",
       "      <td>-0.276501</td>\n",
       "      <td>-0.203519</td>\n",
       "      <td>0.590474</td>\n",
       "    </tr>\n",
       "    <tr>\n",
       "      <th>5</th>\n",
       "      <td>0.62115</td>\n",
       "      <td>1.098588</td>\n",
       "      <td>1.089190</td>\n",
       "      <td>1.008559</td>\n",
       "      <td>1.002845</td>\n",
       "      <td>-0.629941</td>\n",
       "      <td>1.180914</td>\n",
       "      <td>0.735174</td>\n",
       "      <td>1.444894</td>\n",
       "      <td>0.861727</td>\n",
       "      <td>...</td>\n",
       "      <td>-0.360577</td>\n",
       "      <td>-0.267465</td>\n",
       "      <td>-0.120038</td>\n",
       "      <td>-0.482623</td>\n",
       "      <td>-0.075593</td>\n",
       "      <td>-0.394960</td>\n",
       "      <td>-0.084576</td>\n",
       "      <td>-0.276501</td>\n",
       "      <td>-0.203519</td>\n",
       "      <td>0.590474</td>\n",
       "    </tr>\n",
       "    <tr>\n",
       "      <th>270</th>\n",
       "      <td>0.62115</td>\n",
       "      <td>-0.910259</td>\n",
       "      <td>1.089190</td>\n",
       "      <td>1.008559</td>\n",
       "      <td>1.002845</td>\n",
       "      <td>1.587451</td>\n",
       "      <td>-0.846802</td>\n",
       "      <td>-1.360221</td>\n",
       "      <td>1.444894</td>\n",
       "      <td>0.861727</td>\n",
       "      <td>...</td>\n",
       "      <td>-0.360577</td>\n",
       "      <td>-0.267465</td>\n",
       "      <td>-0.120038</td>\n",
       "      <td>2.072012</td>\n",
       "      <td>-0.075593</td>\n",
       "      <td>2.531902</td>\n",
       "      <td>-0.084576</td>\n",
       "      <td>-0.276501</td>\n",
       "      <td>-0.203519</td>\n",
       "      <td>-1.693556</td>\n",
       "    </tr>\n",
       "    <tr>\n",
       "      <th>199</th>\n",
       "      <td>0.62115</td>\n",
       "      <td>1.098588</td>\n",
       "      <td>1.089190</td>\n",
       "      <td>1.008559</td>\n",
       "      <td>-0.997163</td>\n",
       "      <td>-0.629941</td>\n",
       "      <td>-0.846802</td>\n",
       "      <td>-1.360221</td>\n",
       "      <td>-0.692092</td>\n",
       "      <td>-1.160460</td>\n",
       "      <td>...</td>\n",
       "      <td>-0.360577</td>\n",
       "      <td>-0.267465</td>\n",
       "      <td>-0.120038</td>\n",
       "      <td>-0.482623</td>\n",
       "      <td>-0.075593</td>\n",
       "      <td>-0.394960</td>\n",
       "      <td>-0.084576</td>\n",
       "      <td>-0.276501</td>\n",
       "      <td>-0.203519</td>\n",
       "      <td>0.590474</td>\n",
       "    </tr>\n",
       "  </tbody>\n",
       "</table>\n",
       "<p>5 rows × 43 columns</p>\n",
       "</div>"
      ],
      "text/plain": [
       "     A1_Score  A2_Score  A3_Score  A4_Score  A5_Score  A6_Score  A7_Score  \\\n",
       "345   0.62115 -0.910259 -0.918113 -0.991513 -0.997163 -0.629941 -0.846802   \n",
       "96    0.62115 -0.910259 -0.918113 -0.991513  1.002845 -0.629941  1.180914   \n",
       "5     0.62115  1.098588  1.089190  1.008559  1.002845 -0.629941  1.180914   \n",
       "270   0.62115 -0.910259  1.089190  1.008559  1.002845  1.587451 -0.846802   \n",
       "199   0.62115  1.098588  1.089190  1.008559 -0.997163 -0.629941 -0.846802   \n",
       "\n",
       "     A8_Score  A9_Score  A10_Score  ...     India    Jordan  Netherlands  \\\n",
       "345 -1.360221 -0.692092  -1.160460  ... -0.360577  3.738813    -0.120038   \n",
       "96   0.735174 -0.692092  -1.160460  ... -0.360577 -0.267465    -0.120038   \n",
       "5    0.735174  1.444894   0.861727  ... -0.360577 -0.267465    -0.120038   \n",
       "270 -1.360221  1.444894   0.861727  ... -0.360577 -0.267465    -0.120038   \n",
       "199 -1.360221 -0.692092  -1.160460  ... -0.360577 -0.267465    -0.120038   \n",
       "\n",
       "       Others  'Health care professional'  Caregiver    Others    Parent  \\\n",
       "345 -0.482623                   -0.075593   2.531902 -0.084576 -0.276501   \n",
       "96  -0.482623                   -0.075593  -0.394960 -0.084576 -0.276501   \n",
       "5   -0.482623                   -0.075593  -0.394960 -0.084576 -0.276501   \n",
       "270  2.072012                   -0.075593   2.531902 -0.084576 -0.276501   \n",
       "199 -0.482623                   -0.075593  -0.394960 -0.084576 -0.276501   \n",
       "\n",
       "     Relative      Self  \n",
       "345 -0.203519 -1.693556  \n",
       "96  -0.203519  0.590474  \n",
       "5   -0.203519  0.590474  \n",
       "270 -0.203519 -1.693556  \n",
       "199 -0.203519  0.590474  \n",
       "\n",
       "[5 rows x 43 columns]"
      ]
     },
     "execution_count": 57,
     "metadata": {},
     "output_type": "execute_result"
    }
   ],
   "source": [
    "X_train, X_test, y_train, y_test = train_test_split(X_scaled,y,train_size=0.6,random_state=100)\n",
    "X_train.head()"
   ]
  },
  {
   "cell_type": "code",
   "execution_count": 58,
   "id": "1b060c1b",
   "metadata": {
    "execution": {
     "iopub.execute_input": "2022-02-05T08:16:11.137213Z",
     "iopub.status.busy": "2022-02-05T08:16:11.131585Z",
     "iopub.status.idle": "2022-02-05T08:16:14.328197Z",
     "shell.execute_reply": "2022-02-05T08:16:14.328696Z",
     "shell.execute_reply.started": "2022-02-05T07:39:16.630567Z"
    },
    "papermill": {
     "duration": 3.290246,
     "end_time": "2022-02-05T08:16:14.328877",
     "exception": false,
     "start_time": "2022-02-05T08:16:11.038631",
     "status": "completed"
    },
    "tags": []
   },
   "outputs": [
    {
     "name": "stdout",
     "output_type": "stream",
     "text": [
      "Fitting 5 folds for each of 81 candidates, totalling 405 fits\n"
     ]
    },
    {
     "data": {
      "text/plain": [
       "GridSearchCV(estimator=SVC(class_weight='balanced', random_state=100),\n",
       "             n_jobs=-1,\n",
       "             param_grid={'C': [0.0001, 0.001, 0.01, 0.1, 1, 10, 100, 1000,\n",
       "                               10000],\n",
       "                         'gamma': [10000, 1000, 100, 10, 1, 0.1, 0.001, 0.0001,\n",
       "                                   1e-05]},\n",
       "             scoring='recall', verbose=1)"
      ]
     },
     "execution_count": 58,
     "metadata": {},
     "output_type": "execute_result"
    }
   ],
   "source": [
    "Model = SVC(random_state=100,class_weight='balanced')\n",
    "\n",
    "params = {'C':[0.0001,0.001,0.01,0.1,1,10,100,1000,10000],\n",
    "          'gamma':[10000,1000,100,10,1,0.1,0.001,0.0001,0.00001]}\n",
    "\n",
    "grid_search = GridSearchCV(estimator=Model,param_grid=params,verbose=1,n_jobs=-1,scoring='recall')\n",
    "grid_search.fit(X_train,y_train)"
   ]
  },
  {
   "cell_type": "code",
   "execution_count": 59,
   "id": "5dda3910",
   "metadata": {
    "execution": {
     "iopub.execute_input": "2022-02-05T08:16:14.512860Z",
     "iopub.status.busy": "2022-02-05T08:16:14.510795Z",
     "iopub.status.idle": "2022-02-05T08:16:14.516512Z",
     "shell.execute_reply": "2022-02-05T08:16:14.516016Z",
     "shell.execute_reply.started": "2022-02-05T07:39:23.085748Z"
    },
    "papermill": {
     "duration": 0.098339,
     "end_time": "2022-02-05T08:16:14.516657",
     "exception": false,
     "start_time": "2022-02-05T08:16:14.418318",
     "status": "completed"
    },
    "tags": []
   },
   "outputs": [],
   "source": [
    "Model_best = grid_search.best_estimator_"
   ]
  },
  {
   "cell_type": "code",
   "execution_count": 60,
   "id": "7bea3e77",
   "metadata": {
    "execution": {
     "iopub.execute_input": "2022-02-05T08:16:14.703551Z",
     "iopub.status.busy": "2022-02-05T08:16:14.702632Z",
     "iopub.status.idle": "2022-02-05T08:16:14.923914Z",
     "shell.execute_reply": "2022-02-05T08:16:14.924373Z",
     "shell.execute_reply.started": "2022-02-05T07:39:23.097377Z"
    },
    "papermill": {
     "duration": 0.318355,
     "end_time": "2022-02-05T08:16:14.924543",
     "exception": false,
     "start_time": "2022-02-05T08:16:14.606188",
     "status": "completed"
    },
    "tags": []
   },
   "outputs": [
    {
     "name": "stdout",
     "output_type": "stream",
     "text": [
      "0.995260663507109\n",
      "1.0\n"
     ]
    },
    {
     "data": {
      "image/png": "[encoded data removed]",
      "text/plain": [
       "<Figure size 432x288 with 1 Axes>"
      ]
     },
     "metadata": {
      "needs_background": "light"
     },
     "output_type": "display_data"
    }
   ],
   "source": [
    "plot_roc_curve(Model_best,X_train,y_train)\n",
    "y_train_pred = Model_best.predict(X_train)\n",
    "\n",
    "print(accuracy_score(y_train,y_train_pred))\n",
    "print(recall_score(y_train,y_train_pred))"
   ]
  },
  {
   "cell_type": "code",
   "execution_count": 61,
   "id": "314214e0",
   "metadata": {
    "execution": {
     "iopub.execute_input": "2022-02-05T08:16:15.109246Z",
     "iopub.status.busy": "2022-02-05T08:16:15.108551Z",
     "iopub.status.idle": "2022-02-05T08:16:15.350037Z",
     "shell.execute_reply": "2022-02-05T08:16:15.349403Z",
     "shell.execute_reply.started": "2022-02-05T07:39:23.591931Z"
    },
    "papermill": {
     "duration": 0.334689,
     "end_time": "2022-02-05T08:16:15.350173",
     "exception": false,
     "start_time": "2022-02-05T08:16:15.015484",
     "status": "completed"
    },
    "tags": []
   },
   "outputs": [
    {
     "name": "stdout",
     "output_type": "stream",
     "text": [
      "0.9787234042553191\n",
      "0.96875\n"
     ]
    },
    {
     "data": {
      "image/png": "[encoded data removed]",
      "text/plain": [
       "<Figure size 432x288 with 1 Axes>"
      ]
     },
     "metadata": {
      "needs_background": "light"
     },
     "output_type": "display_data"
    }
   ],
   "source": [
    "plot_roc_curve(Model_best,X_test,y_test)\n",
    "y_test_pred = Model_best.predict(X_test)\n",
    "\n",
    "print(accuracy_score(y_test,y_test_pred))\n",
    "print(recall_score(y_test,y_test_pred))"
   ]
  },
  {
   "cell_type": "code",
   "execution_count": 62,
   "id": "a4c45464",
   "metadata": {
    "execution": {
     "iopub.execute_input": "2022-02-05T08:16:15.540231Z",
     "iopub.status.busy": "2022-02-05T08:16:15.539587Z",
     "iopub.status.idle": "2022-02-05T08:16:18.252184Z",
     "shell.execute_reply": "2022-02-05T08:16:18.252691Z",
     "shell.execute_reply.started": "2022-02-05T07:39:24.054320Z"
    },
    "papermill": {
     "duration": 2.812196,
     "end_time": "2022-02-05T08:16:18.252916",
     "exception": false,
     "start_time": "2022-02-05T08:16:15.440720",
     "status": "completed"
    },
    "tags": []
   },
   "outputs": [
    {
     "name": "stdout",
     "output_type": "stream",
     "text": [
      "Fitting 5 folds for each of 81 candidates, totalling 405 fits\n"
     ]
    },
    {
     "data": {
      "text/plain": [
       "GridSearchCV(estimator=SVC(class_weight='balanced', random_state=100),\n",
       "             n_jobs=-1,\n",
       "             param_grid={'C': [0.0001, 0.001, 0.01, 0.1, 1, 10, 100, 1000,\n",
       "                               10000],\n",
       "                         'gamma': [10000, 1000, 100, 10, 1, 0.1, 0.001, 0.0001,\n",
       "                                   1e-05]},\n",
       "             scoring='accuracy', verbose=1)"
      ]
     },
     "execution_count": 62,
     "metadata": {},
     "output_type": "execute_result"
    }
   ],
   "source": [
    "Model = SVC(random_state=100,class_weight='balanced')\n",
    "\n",
    "params = {'C':[0.0001,0.001,0.01,0.1,1,10,100,1000,10000],\n",
    "          'gamma':[10000,1000,100,10,1,0.1,0.001,0.0001,0.00001]}\n",
    "\n",
    "grid_search = GridSearchCV(estimator=Model,param_grid=params,verbose=1,n_jobs=-1,scoring='accuracy')\n",
    "grid_search.fit(X_train,y_train)"
   ]
  },
  {
   "cell_type": "code",
   "execution_count": 63,
   "id": "8cf6ff3b",
   "metadata": {
    "execution": {
     "iopub.execute_input": "2022-02-05T08:16:18.448842Z",
     "iopub.status.busy": "2022-02-05T08:16:18.448196Z",
     "iopub.status.idle": "2022-02-05T08:16:18.451089Z",
     "shell.execute_reply": "2022-02-05T08:16:18.450519Z",
     "shell.execute_reply.started": "2022-02-05T07:39:29.635374Z"
    },
    "papermill": {
     "duration": 0.102233,
     "end_time": "2022-02-05T08:16:18.451246",
     "exception": false,
     "start_time": "2022-02-05T08:16:18.349013",
     "status": "completed"
    },
    "tags": []
   },
   "outputs": [],
   "source": [
    "Model_best = grid_search.best_estimator_"
   ]
  },
  {
   "cell_type": "code",
   "execution_count": 64,
   "id": "fe17c880",
   "metadata": {
    "execution": {
     "iopub.execute_input": "2022-02-05T08:16:18.641500Z",
     "iopub.status.busy": "2022-02-05T08:16:18.640555Z",
     "iopub.status.idle": "2022-02-05T08:16:18.831098Z",
     "shell.execute_reply": "2022-02-05T08:16:18.830567Z",
     "shell.execute_reply.started": "2022-02-05T07:39:29.652637Z"
    },
    "papermill": {
     "duration": 0.287139,
     "end_time": "2022-02-05T08:16:18.831243",
     "exception": false,
     "start_time": "2022-02-05T08:16:18.544104",
     "status": "completed"
    },
    "tags": []
   },
   "outputs": [
    {
     "name": "stdout",
     "output_type": "stream",
     "text": [
      "1.0\n",
      "1.0\n"
     ]
    },
    {
     "data": {
      "image/png": "[encoded data removed]",
      "text/plain": [
       "<Figure size 432x288 with 1 Axes>"
      ]
     },
     "metadata": {
      "needs_background": "light"
     },
     "output_type": "display_data"
    }
   ],
   "source": [
    "plot_roc_curve(Model_best,X_train,y_train)\n",
    "y_train_pred = Model_best.predict(X_train)\n",
    "\n",
    "print(accuracy_score(y_train,y_train_pred))\n",
    "print(recall_score(y_train,y_train_pred))"
   ]
  },
  {
   "cell_type": "code",
   "execution_count": 65,
   "id": "e10e974b",
   "metadata": {
    "execution": {
     "iopub.execute_input": "2022-02-05T08:16:19.030938Z",
     "iopub.status.busy": "2022-02-05T08:16:19.030009Z",
     "iopub.status.idle": "2022-02-05T08:16:19.215460Z",
     "shell.execute_reply": "2022-02-05T08:16:19.215981Z",
     "shell.execute_reply.started": "2022-02-05T07:39:30.195584Z"
    },
    "papermill": {
     "duration": 0.289227,
     "end_time": "2022-02-05T08:16:19.216219",
     "exception": false,
     "start_time": "2022-02-05T08:16:18.926992",
     "status": "completed"
    },
    "tags": []
   },
   "outputs": [
    {
     "name": "stdout",
     "output_type": "stream",
     "text": [
      "1.0\n",
      "1.0\n"
     ]
    },
    {
     "data": {
      "image/png": "[encoded data removed]",
      "text/plain": [
       "<Figure size 432x288 with 1 Axes>"
      ]
     },
     "metadata": {
      "needs_background": "light"
     },
     "output_type": "display_data"
    }
   ],
   "source": [
    "plot_roc_curve(Model_best,X_test,y_test)\n",
    "y_test_pred = Model_best.predict(X_test)\n",
    "\n",
    "print(accuracy_score(y_test,y_test_pred))\n",
    "print(recall_score(y_test,y_test_pred))"
   ]
  },
  {
   "cell_type": "code",
   "execution_count": 66,
   "id": "d9fa8075",
   "metadata": {
    "execution": {
     "iopub.execute_input": "2022-02-05T08:16:19.412931Z",
     "iopub.status.busy": "2022-02-05T08:16:19.411928Z",
     "iopub.status.idle": "2022-02-05T08:16:19.415601Z",
     "shell.execute_reply": "2022-02-05T08:16:19.416097Z",
     "shell.execute_reply.started": "2022-02-05T07:39:30.707578Z"
    },
    "papermill": {
     "duration": 0.10375,
     "end_time": "2022-02-05T08:16:19.416300",
     "exception": false,
     "start_time": "2022-02-05T08:16:19.312550",
     "status": "completed"
    },
    "tags": []
   },
   "outputs": [],
   "source": [
    "#As we can see we get almost perfect recall and accuracy scores using SVMs."
   ]
  },
  {
   "cell_type": "code",
   "execution_count": 67,
   "id": "79df84cb",
   "metadata": {
    "execution": {
     "iopub.execute_input": "2022-02-05T08:16:19.618260Z",
     "iopub.status.busy": "2022-02-05T08:16:19.617536Z",
     "iopub.status.idle": "2022-02-05T08:16:19.620172Z",
     "shell.execute_reply": "2022-02-05T08:16:19.620695Z",
     "shell.execute_reply.started": "2022-02-05T07:39:30.719057Z"
    },
    "papermill": {
     "duration": 0.106185,
     "end_time": "2022-02-05T08:16:19.620938",
     "exception": false,
     "start_time": "2022-02-05T08:16:19.514753",
     "status": "completed"
    },
    "tags": []
   },
   "outputs": [],
   "source": [
    "# END #"
   ]
  }
 ],
 "metadata": {
  "kernelspec": {
   "display_name": "Python 3 (ipykernel)",
   "language": "python",
   "name": "python3"
  },
  "language_info": {
   "codemirror_mode": {
    "name": "ipython",
    "version": 3
   },
   "file_extension": ".py",
   "mimetype": "text/x-python",
   "name": "python",
   "nbconvert_exporter": "python",
   "pygments_lexer": "ipython3",
   "version": "3.9.12"
  },
  "papermill": {
   "default_parameters": {},
   "duration": 1130.071951,
   "end_time": "2022-02-05T08:16:20.536439",
   "environment_variables": {},
   "exception": null,
   "input_path": "__notebook__.ipynb",
   "output_path": "__notebook__.ipynb",
   "parameters": {},
   "start_time": "2022-02-05T07:57:30.464488",
   "version": "2.3.3"
  }
 },
 "nbformat": 4,
 "nbformat_minor": 5
}
